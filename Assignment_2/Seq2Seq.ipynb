{
 "cells": [
  {
   "cell_type": "markdown",
   "id": "8a5880d2",
   "metadata": {},
   "source": [
    "# Seq2Seq Model\n",
    "\n",
    "Importing necessary Libraries"
   ]
  },
  {
   "cell_type": "code",
   "execution_count": 1,
   "id": "4c280aeb",
   "metadata": {},
   "outputs": [],
   "source": [
    "import pandas as pd\n",
    "import numpy as np\n",
    "import math\n",
    "import time\n",
    "import string\n",
    "import re\n",
    "import os\n",
    "import tensorflow as tf\n",
    "tf.compat.v1.enable_eager_execution()\n",
    "from tensorflow.keras import layers\n",
    "import tensorflow_datasets as tfds\n",
    "import tensorflow_text as tf_text\n",
    "import os"
   ]
  },
  {
   "cell_type": "markdown",
   "id": "b22da88c",
   "metadata": {},
   "source": [
    "Now we load the data from json file and create a pandas data frame.\n",
    "<br> \n",
    "After deleting duplicates the size of dataset was reduced from 7000-6971.\n",
    "<br> \n",
    "I have also changed both the questions and answers to Upper Case."
   ]
  },
  {
   "cell_type": "code",
   "execution_count": 2,
   "id": "787db0f5",
   "metadata": {},
   "outputs": [
    {
     "data": {
      "text/html": [
       "<div>\n",
       "<style scoped>\n",
       "    .dataframe tbody tr th:only-of-type {\n",
       "        vertical-align: middle;\n",
       "    }\n",
       "\n",
       "    .dataframe tbody tr th {\n",
       "        vertical-align: top;\n",
       "    }\n",
       "\n",
       "    .dataframe thead th {\n",
       "        text-align: right;\n",
       "    }\n",
       "</style>\n",
       "<table border=\"1\" class=\"dataframe\">\n",
       "  <thead>\n",
       "    <tr style=\"text-align: right;\">\n",
       "      <th></th>\n",
       "      <th>question</th>\n",
       "      <th>query</th>\n",
       "    </tr>\n",
       "  </thead>\n",
       "  <tbody>\n",
       "    <tr>\n",
       "      <th>0</th>\n",
       "      <td>HOW MANY HEADS OF THE DEPARTMENTS ARE OLDER TH...</td>\n",
       "      <td>SELECT COUNT(*) FROM HEAD WHERE AGE  &gt;  56</td>\n",
       "    </tr>\n",
       "    <tr>\n",
       "      <th>1</th>\n",
       "      <td>LIST THE NAME, BORN STATE AND AGE OF THE HEADS...</td>\n",
       "      <td>SELECT NAME ,  BORN_STATE ,  AGE FROM HEAD ORD...</td>\n",
       "    </tr>\n",
       "    <tr>\n",
       "      <th>2</th>\n",
       "      <td>LIST THE CREATION YEAR, NAME AND BUDGET OF EAC...</td>\n",
       "      <td>SELECT CREATION ,  NAME ,  BUDGET_IN_BILLIONS ...</td>\n",
       "    </tr>\n",
       "    <tr>\n",
       "      <th>3</th>\n",
       "      <td>WHAT ARE THE MAXIMUM AND MINIMUM BUDGET OF THE...</td>\n",
       "      <td>SELECT MAX(BUDGET_IN_BILLIONS) ,  MIN(BUDGET_I...</td>\n",
       "    </tr>\n",
       "    <tr>\n",
       "      <th>4</th>\n",
       "      <td>WHAT IS THE AVERAGE NUMBER OF EMPLOYEES OF THE...</td>\n",
       "      <td>SELECT AVG(NUM_EMPLOYEES) FROM DEPARTMENT WHER...</td>\n",
       "    </tr>\n",
       "  </tbody>\n",
       "</table>\n",
       "</div>"
      ],
      "text/plain": [
       "                                            question  \\\n",
       "0  HOW MANY HEADS OF THE DEPARTMENTS ARE OLDER TH...   \n",
       "1  LIST THE NAME, BORN STATE AND AGE OF THE HEADS...   \n",
       "2  LIST THE CREATION YEAR, NAME AND BUDGET OF EAC...   \n",
       "3  WHAT ARE THE MAXIMUM AND MINIMUM BUDGET OF THE...   \n",
       "4  WHAT IS THE AVERAGE NUMBER OF EMPLOYEES OF THE...   \n",
       "\n",
       "                                               query  \n",
       "0         SELECT COUNT(*) FROM HEAD WHERE AGE  >  56  \n",
       "1  SELECT NAME ,  BORN_STATE ,  AGE FROM HEAD ORD...  \n",
       "2  SELECT CREATION ,  NAME ,  BUDGET_IN_BILLIONS ...  \n",
       "3  SELECT MAX(BUDGET_IN_BILLIONS) ,  MIN(BUDGET_I...  \n",
       "4  SELECT AVG(NUM_EMPLOYEES) FROM DEPARTMENT WHER...  "
      ]
     },
     "execution_count": 2,
     "metadata": {},
     "output_type": "execute_result"
    }
   ],
   "source": [
    "df = pd.read_json('train_spider.json')\n",
    "cols = ['question','query']\n",
    "data=df[cols]\n",
    "data=data.drop_duplicates()\n",
    "\n",
    "#Changing Everything to Uppercase\n",
    "data['query']=data['query'].str.upper()\n",
    "data['question']=data['question'].str.upper()\n",
    "data=data.drop_duplicates()\n",
    "data.head()"
   ]
  },
  {
   "cell_type": "markdown",
   "id": "e838f2cf",
   "metadata": {},
   "source": [
    " Here we only choose instances where the query has a where condition and a Join cloause. This kind of narrows down the problem and we only focus on 1 type oof question."
   ]
  },
  {
   "cell_type": "code",
   "execution_count": 3,
   "id": "73b79037",
   "metadata": {},
   "outputs": [],
   "source": [
    "def DataSetWith1JoinAndWhere():\n",
    "    df1= pd.DataFrame(columns=['query', 'question'])\n",
    "    df1=pd.concat([df1,data.loc[data['query'].str.contains('WHERE', case=False)]],ignore_index=True, sort=False)\n",
    "    df2= pd.DataFrame(columns=['query', 'question'])\n",
    "    for x in range(len(df1)):\n",
    "        if(df1.loc[x]['query'].count('JOIN')==1):\n",
    "            df2=df2.append(df1.loc[x])\n",
    "    return df2.drop_duplicates().reset_index()\n",
    "df_final=DataSetWith1JoinAndWhere()[cols].sample(n=1000,random_state=1).reset_index()\n",
    "del df_final['index']"
   ]
  },
  {
   "cell_type": "markdown",
   "id": "6c811387",
   "metadata": {},
   "source": [
    "# Train Validation Test Split\n",
    "Train 75%, Validation 15%, Test 15%"
   ]
  },
  {
   "cell_type": "code",
   "execution_count": 4,
   "id": "292df2ed",
   "metadata": {},
   "outputs": [],
   "source": [
    "# Creating Train Validation Test Split\n",
    "# Creating Train Validation Test Split\n",
    "from fast_ml.model_development import train_valid_test_split\n",
    "\n",
    "X_train, y_train, X_valid, y_valid, X_test, y_test = train_valid_test_split(df_final, target = 'query', random_state=1,\n",
    "                                                                            train_size=0.7, valid_size=0.15, test_size=0.15)"
   ]
  },
  {
   "cell_type": "markdown",
   "id": "cf9c672b",
   "metadata": {},
   "source": [
    "# Cleaning The Train Data\n",
    "<br> I have removed punctuation from Questions and changed short forms like What's to What is, So it is easier for the model to predict"
   ]
  },
  {
   "cell_type": "code",
   "execution_count": 5,
   "id": "ee628fae",
   "metadata": {},
   "outputs": [],
   "source": [
    "#Cleaning Questions\n",
    "\n",
    "def clean_text(text):\n",
    "    text = text.upper()\n",
    "    text = re.sub(r\"WHATS'S\", \"WHAT IS\", text)\n",
    "    text = re.sub(r\"WHERE'S\", \"WHERE IS\", text)\n",
    "    text = re.sub(r\"\\'LL\", \" WILL\", text)\n",
    "    text = re.sub(r\"\\'VE\", \" HAVE\", text)\n",
    "    text = re.sub(r\"\\'RE\", \" ARE\", text)\n",
    "    text = re.sub(r\"\\'D\", \" WOULD\", text)\n",
    "    text = re.sub(r\"WON'T\", \"WILL NOT\", text)\n",
    "    text = re.sub(r\"CAN'T\", \"CANNOT\", text)\n",
    "    text = re.sub(r\"[\\\"#/@;:{}~|.?,]\", \"\", text)\n",
    "    for i in range(1,10):   \n",
    "        text = re.sub(r\"\\ T\"+str(i), \" \", text)\n",
    "    return text\n",
    "\n",
    "clean_questions=[]\n",
    "for question in X_train['question']:\n",
    "    clean_questions.append(clean_text(question))\n",
    "\n",
    "clean_queries=[]\n",
    "for query in y_train:\n",
    "    clean_queries.append(query)"
   ]
  },
  {
   "cell_type": "markdown",
   "id": "ce8b9467",
   "metadata": {},
   "source": [
    "# Tokenizing\n",
    "Tokenizing is used to change the questions and queries to vector format. I have added 2 to Vocabulary size of both Questions and Queries to represent start of sentence and end of sentence added in subsequent step.\n",
    "These vectors are saved in inputs and outputs respectively.\n",
    "I have set the Max_length to 40 and removed all the instances where the queries or questions exceed this limit."
   ]
  },
  {
   "cell_type": "code",
   "execution_count": 6,
   "id": "22ae0c7d",
   "metadata": {},
   "outputs": [
    {
     "name": "stdout",
     "output_type": "stream",
     "text": [
      "601\n"
     ]
    }
   ],
   "source": [
    "#Tokenizing\n",
    "tokenizer_questions = tfds.deprecated.text.SubwordTextEncoder.build_from_corpus(clean_questions,\n",
    "                                                                                target_vocab_size=2**13)\n",
    "tokenizer_queries = tfds.deprecated.text.SubwordTextEncoder.build_from_corpus(clean_queries,\n",
    "                                                                                target_vocab_size=2**13)\n",
    "        \n",
    "VOCAB_SIZE_QUESTIONS = tokenizer_questions.vocab_size+2\n",
    "VOCAB_SIZE_QUERIES = tokenizer_queries.vocab_size+2\n",
    "\n",
    "inputs =[[VOCAB_SIZE_QUESTIONS-2]+tokenizer_questions.encode(sentence)+[VOCAB_SIZE_QUESTIONS-1]\n",
    "         for sentence in clean_questions]\n",
    "\n",
    "outputs =[[VOCAB_SIZE_QUERIES-2]+tokenizer_queries.encode(sentence)+[VOCAB_SIZE_QUERIES-1]\n",
    "         for sentence in clean_queries]\n",
    "\n",
    "MAX_LENGTH=40\n",
    "idx_to_remove =[count for count, sent in enumerate(inputs) if len(sent)>MAX_LENGTH]\n",
    "for idx in reversed(idx_to_remove):\n",
    "    del inputs[idx]\n",
    "    del outputs[idx]\n",
    "    \n",
    "idx_to_remove =[count for count, sent in enumerate(outputs) if len(sent)>MAX_LENGTH]\n",
    "for idx in reversed(idx_to_remove):\n",
    "    del inputs[idx]\n",
    "    del outputs[idx]\n",
    "    \n",
    "print(len(inputs))"
   ]
  },
  {
   "cell_type": "markdown",
   "id": "906a044c",
   "metadata": {},
   "source": [
    "# Padding\n",
    "We use keras pad sequence to pad all the questions or queries which had length shorter than 40 to set all the inputs and outputs to have the same length."
   ]
  },
  {
   "cell_type": "code",
   "execution_count": 7,
   "id": "1f79078d",
   "metadata": {},
   "outputs": [],
   "source": [
    "#Padding Inputs and Outputs\n",
    "inputs = tf.keras.preprocessing.sequence.pad_sequences(inputs,\n",
    "                                                                  value=0,padding='post',\n",
    "                                                                  maxlen=MAX_LENGTH)\n",
    "outputs = tf.keras.preprocessing.sequence.pad_sequences(outputs,\n",
    "                                                                  value=0,padding='post',\n",
    "                                                                  maxlen=MAX_LENGTH)\n"
   ]
  },
  {
   "cell_type": "code",
   "execution_count": 8,
   "id": "803ed119",
   "metadata": {},
   "outputs": [
    {
     "name": "stdout",
     "output_type": "stream",
     "text": [
      "Vocab size of Questions:  1796\n",
      "\n",
      "Vocab size of Queries:  2019\n"
     ]
    }
   ],
   "source": [
    "#Printing Vocab size \n",
    "print('Vocab size of Questions: ',VOCAB_SIZE_QUESTIONS)\n",
    "print('\\nVocab size of Queries: ',VOCAB_SIZE_QUERIES)"
   ]
  },
  {
   "cell_type": "code",
   "execution_count": 9,
   "id": "5ec6bbad",
   "metadata": {},
   "outputs": [],
   "source": [
    "#Getting vector dataset for training\n",
    "dataset=tf.data.Dataset.from_tensor_slices((inputs,outputs))"
   ]
  },
  {
   "cell_type": "markdown",
   "id": "992c50d1",
   "metadata": {},
   "source": [
    "Batch Size and Buffer size is used to shuffle the dataset.\n",
    "<br>Cache is used to improve speed of training\n",
    "<br>prefetch  with experimental.AUTOTUNE also speeds up training."
   ]
  },
  {
   "cell_type": "code",
   "execution_count": 10,
   "id": "c52e968e",
   "metadata": {},
   "outputs": [],
   "source": [
    "BATCH_SIZE=64\n",
    "BUFFER_SIZE=20000\n",
    "\n",
    "dataset=dataset.cache()\n",
    "dataset=dataset.shuffle(BUFFER_SIZE).batch(BUFFER_SIZE)\n",
    "dataset=dataset.prefetch(tf.data.experimental.AUTOTUNE)\n"
   ]
  },
  {
   "cell_type": "markdown",
   "id": "005e55db",
   "metadata": {},
   "source": [
    "Positional encoding formulae:\n",
    "\n",
    "$PE_{(pos, 2i)} = \\sin(pos/10000^{2i/dmodel})$  - Even positions\n",
    "\n",
    "$PE_{(pos, 2i+1)} = \\cos(pos/10000^{2i/dmodel})$ - Odd Positions"
   ]
  },
  {
   "cell_type": "code",
   "execution_count": 11,
   "id": "0a9009d8",
   "metadata": {},
   "outputs": [],
   "source": [
    "# Positional Encoding\n",
    "class PositionalEncoding(layers.Layer):\n",
    "    def __init__(self):\n",
    "        super(PositionalEncoding,self).__init__()\n",
    "    def get_angles(self,pos,i, d_model): #pos:(seq_length,1) i: (1,d_model)\n",
    "        angles = i/np.power(10000.,(2*(i//2))/np.float32(d_model))\n",
    "        return pos * angles #(seq_length,d_model)\n",
    "    def call(self,inputs):\n",
    "        seq_length = inputs.shape.as_list()[-2] # length of sequences\n",
    "        d_model = inputs.shape.as_list()[-1] # last dimension\n",
    "        angles=self.get_angles(np.arange(seq_length)[:,np.newaxis],\n",
    "                               np.arange(d_model)[np.newaxis,:],\n",
    "                               d_model)\n",
    "        angles[:,0::2]=np.sin(angles[:,0::2]) # Applied to Even positions\n",
    "        angles[:,1::2]=np.cos(angles[:,1::2]) # Applied to Odd positions\n",
    "        pos_encoding=angles[np.newaxis,...] # We have one more dimension (...) means it takes everything\n",
    "        return inputs+tf.cast(pos_encoding,tf.float32) # Making them tensors and adding to inputs"
   ]
  },
  {
   "cell_type": "markdown",
   "id": "56090c86",
   "metadata": {},
   "source": [
    "$Attention(Q, K, V) = \\text{softmax}\\left(\\frac{QK^T}{\\sqrt{d_k}}\\right)V$"
   ]
  },
  {
   "cell_type": "code",
   "execution_count": 25,
   "id": "af4989c2",
   "metadata": {},
   "outputs": [],
   "source": [
    "# Scaled Dot Product Attention\n",
    "# Here the mask is look ahead mash which doesn't allow the decoder to see next words or \n",
    "# padding mask that masks zeros at end of each sentence\n",
    "def scaled_dotproduct_attention(quries,keys,values,mask): \n",
    "    product=tf.matmul(quries,keys,transpose_b=True) # matrix multiplication of Q ad K \n",
    "    keys_dim=tf.cast(tf.shape(keys)[-1],tf.float32) # old dimension of keys\n",
    "    scaled_product=product/tf.math.sqrt(keys_dim) # scaling by dividing by root of dimension of K\n",
    "     # Appling mask and multiplying by very low -ve number so after softmask it will be 0 and won;t have any impact\n",
    "    if mask is not None:\n",
    "        scaled_product +=(mask*-1e9)\n",
    "    attention=tf.matmul(tf.nn.softmax(scaled_product,axis=-1), values) # Applying Softmax and matrix multiplication with V\n",
    "    return attention"
   ]
  },
  {
   "cell_type": "markdown",
   "id": "d8abdf6a",
   "metadata": {},
   "source": [
    "### Multi-head attention sublayer"
   ]
  },
  {
   "cell_type": "code",
   "execution_count": 13,
   "id": "cf0640fb",
   "metadata": {},
   "outputs": [],
   "source": [
    "# Multihead Attention\n",
    "class MultiHeadAttention(layers.Layer):\n",
    "    def __init__(self,nb_proj): # nb_proj is number of projections wwe want to perform\n",
    "        super(MultiHeadAttention,self).__init__()\n",
    "        self.nb_proj=nb_proj\n",
    "    def build(self,input_shape):\n",
    "        self.d_model=input_shape[-1]\n",
    "        # making sure d_model / nb_proj gives integers\n",
    "        assert self.d_model % self.nb_proj == 0 \n",
    "        \n",
    "        self.d_proj=self.d_model//self.nb_proj # Dimension of each projection\n",
    "        \n",
    "        # Dense Layers\n",
    "        self.query_lin = layers.Dense(units=self.d_model) \n",
    "        self.key_lin = layers.Dense(units=self.d_model)\n",
    "        self.value_lin = layers.Dense(units=self.d_model)\n",
    "        self.final_lin = layers.Dense(units=self.d_model)\n",
    "        \n",
    "    def split_proj(self,inputs,batch_size): # inputs: (batch_size, seq_length,d_model)\n",
    "        shape = (batch_size,\n",
    "                 -1, \n",
    "                 self.nb_proj, \n",
    "                 self.d_proj)\n",
    "        splitted_inputs = tf.reshape(inputs,shape=shape) # We have this shape (batch_size,seq_length,np_proj, d_proj)\n",
    "        # We use transpose to convert to this (batch_size, np_proj,seq_length,d_proj)\n",
    "        return tf.transpose(splitted_inputs, perm =[0,2,1,3]) \n",
    "        \n",
    "    def call(self, queries,keys,values,mask):\n",
    "        batch_size=tf.shape(queries)[0]\n",
    "        \n",
    "        queries=self.query_lin(queries)\n",
    "        keys=self.key_lin(keys)\n",
    "        values=self.value_lin(values)\n",
    "        \n",
    "        queries = self.split_proj(queries,batch_size)\n",
    "        keys = self.split_proj(keys,batch_size)\n",
    "        values = self.split_proj(values,batch_size)\n",
    "\n",
    "        attention = scaled_dotproduct_attention(queries,keys,values,mask) # Calling sclaed dot product for attention\n",
    "        attention = tf.transpose(attention, perm = [0,2,1,3])\n",
    "        \n",
    "        concat_attention= tf.reshape(attention,\n",
    "                                     shape=(batch_size,-1,self.d_model)) \n",
    "        \n",
    "        outputs = self.final_lin(concat_attention)\n",
    "        return outputs"
   ]
  },
  {
   "cell_type": "markdown",
   "id": "4bc91bbc",
   "metadata": {},
   "source": [
    "# Encoder"
   ]
  },
  {
   "cell_type": "code",
   "execution_count": 14,
   "id": "02b5116a",
   "metadata": {},
   "outputs": [],
   "source": [
    "class EncoderLayer(layers.Layer):\n",
    "    \n",
    "    def __init__(self,FFN_units, nb_proj, dropout):\n",
    "        super(EncoderLayer, self).__init__()\n",
    "        self.FFN_units = FFN_units\n",
    "        self.nb_proj = nb_proj\n",
    "        self.dropout = dropout\n",
    "        \n",
    "    def build(self, input_shape):\n",
    "        self.d_model=input_shape[-1]\n",
    "        self.multi_head_attention = MultiHeadAttention(self.nb_proj)\n",
    "        self.dropout_1 = layers.Dropout(rate=self.dropout)\n",
    "        self.norm_1 = layers.LayerNormalization(epsilon=1e-6)\n",
    "        self.dense_1 = layers.Dense(units=self.FFN_units,activation='relu')\n",
    "        self.dense_2 = layers.Dense(units=self.d_model,activation='relu')\n",
    "        self.dropout_2 = layers.Dropout(rate=self.dropout)\n",
    "        self.norm_2 = layers.LayerNormalization(epsilon=1e-6)\n",
    "\n",
    "    def call(self, inputs, mask, training):\n",
    "        attention = self.multi_head_attention(inputs,inputs,inputs,mask)\n",
    "        attention =self.dropout_1(attention, training=training)\n",
    "        attention = self.norm_1(attention+inputs)\n",
    "        outputs=self.dense_1(attention)\n",
    "        outputs=self.dense_2(outputs)\n",
    "        outputs =self.dropout_2(outputs)\n",
    "        outputs = self.norm_2(outputs+attention)\n",
    "        \n",
    "        return outputs"
   ]
  },
  {
   "cell_type": "code",
   "execution_count": 15,
   "id": "62287e2c",
   "metadata": {},
   "outputs": [],
   "source": [
    "class Encoder(layers.Layer):\n",
    "    def __init__(self,\n",
    "               nb_layers,\n",
    "               FFN_units,\n",
    "              nb_proj,\n",
    "              dropout,\n",
    "              vocab_size,\n",
    "              d_model,\n",
    "              name=\"encoder\"):\n",
    "        super(Encoder,self).__init__(name=name)\n",
    "        self.nb_layers=nb_layers\n",
    "        self.d_model=d_model\n",
    "        \n",
    "        self.embedding = layers.Embedding(vocab_size, d_model)\n",
    "        self.pos_encoding = PositionalEncoding()\n",
    "        self.dropout = layers.Dropout(rate=dropout)\n",
    "        self.enc_layers = [EncoderLayer(FFN_units,\n",
    "                                        nb_proj,\n",
    "                                        dropout)\n",
    "                           for _ in range(nb_layers)]\n",
    "        \n",
    "    def call(self,inputs,mask,training):\n",
    "        outputs = self.embedding(inputs)\n",
    "        outputs *= tf.math.sqrt(tf.cast(self.d_model,tf.float32))\n",
    "        outputs = self.pos_encoding(outputs)\n",
    "        outputs = self.dropout(outputs,training)\n",
    "        \n",
    "        for i in range(self.nb_layers):\n",
    "            outputs = self.enc_layers[i](outputs, mask, training)\n",
    "            \n",
    "        return outputs"
   ]
  },
  {
   "cell_type": "markdown",
   "id": "6be8e1e0",
   "metadata": {},
   "source": [
    "# Decoder"
   ]
  },
  {
   "cell_type": "code",
   "execution_count": 16,
   "id": "fa37920c",
   "metadata": {},
   "outputs": [],
   "source": [
    "class DecoderLayer(layers.Layer):\n",
    "    def __init__(self,FFN_units, nb_proj, dropout):\n",
    "        super(DecoderLayer, self).__init__()\n",
    "        self.FFN_units = FFN_units\n",
    "        self.nb_proj = nb_proj\n",
    "        self.dropout = dropout\n",
    "        \n",
    "    def build(self, input_shape):\n",
    "        self.d_model=input_shape[-1]\n",
    "        self.multi_head_attention_1 = MultiHeadAttention(self.nb_proj)\n",
    "        self.dropout_1 = layers.Dropout(rate=self.dropout)\n",
    "        self.norm_1 = layers.LayerNormalization(epsilon=1e-6)\n",
    "        \n",
    "        self.multi_head_attention_2 = MultiHeadAttention(self.nb_proj)\n",
    "        self.dropout_2 = layers.Dropout(rate=self.dropout)\n",
    "        self.norm_2 = layers.LayerNormalization(epsilon=1e-6)\n",
    "        \n",
    "        self.dense_1 = layers.Dense(units=self.FFN_units,activation='relu')\n",
    "        self.dense_2 = layers.Dense(units=self.d_model)\n",
    "        self.dropout_3 = layers.Dropout(rate=self.dropout)\n",
    "        self.norm_3 = layers.LayerNormalization(epsilon=1e-6)\n",
    "\n",
    "    def call(self, inputs, enc_outputs, mask_1, mask_2, training):\n",
    "        attention = self.multi_head_attention_1(inputs,\n",
    "                                              inputs,\n",
    "                                              inputs,\n",
    "                                              mask_1)\n",
    "        attention = self.dropout_1(attention, training)\n",
    "        attention = self.norm_1(attention +  inputs)\n",
    "        \n",
    "        attention_2 = self.multi_head_attention_2(attention,\n",
    "                                              enc_outputs,\n",
    "                                              enc_outputs,\n",
    "                                              mask_2)\n",
    "        attention_2 = self.dropout_2(attention_2,training)\n",
    "        attention_2 = self.norm_2(attention_2 +  attention)\n",
    "        \n",
    "        outputs = self.dense_1(attention_2)\n",
    "        outputs = self.dense_2(outputs)\n",
    "        outputs = self.dropout_3(outputs, training)\n",
    "        outputs = self.norm_3(outputs +  attention_2)\n",
    "        \n",
    "        return outputs"
   ]
  },
  {
   "cell_type": "code",
   "execution_count": 17,
   "id": "2ce58414",
   "metadata": {},
   "outputs": [],
   "source": [
    "class Decoder(layers.Layer):\n",
    "    def __init__(self,\n",
    "               nb_layers,\n",
    "               FFN_units,\n",
    "              nb_proj,\n",
    "              dropout,\n",
    "              vocab_size,\n",
    "              d_model,\n",
    "              name='decoder'):\n",
    "        super(Decoder, self).__init__(name=name)\n",
    "        self.d_model=d_model\n",
    "        self.nb_layers = nb_layers\n",
    "        \n",
    "        self.embedding =  layers.Embedding(vocab_size,d_model)\n",
    "        self.pos_encoding = PositionalEncoding()\n",
    "        self.dropout = layers.Dropout(rate=dropout)\n",
    "        \n",
    "        self.dec_layers = [DecoderLayer(FFN_units, nb_proj,dropout)\n",
    "                           for _ in range(nb_layers)]\n",
    "    def call(self, inputs, enc_outputs, mask_1, mask_2, training):\n",
    "        outputs=self.embedding(inputs)\n",
    "        outputs *= tf.math.sqrt(tf.cast(self.d_model,tf.float32))\n",
    "        outputs = self.pos_encoding(outputs)\n",
    "        outputs = self.dropout(outputs,training)\n",
    "        \n",
    "        for i in range(self.nb_layers):\n",
    "            outputs = self.dec_layers[i](outputs,\n",
    "                                         enc_outputs,\n",
    "                                         mask_1,\n",
    "                                         mask_2,\n",
    "                                         training)\n",
    "        return outputs"
   ]
  },
  {
   "cell_type": "markdown",
   "id": "7a9a5f68",
   "metadata": {},
   "source": [
    "# Transformer"
   ]
  },
  {
   "cell_type": "code",
   "execution_count": 18,
   "id": "cbe9eb81",
   "metadata": {},
   "outputs": [],
   "source": [
    "# Transformer\n",
    "class Transformer(tf.keras.Model):\n",
    "    def __init__(self,vocab_size_enc,\n",
    "              vocab_size_dec,\n",
    "              d_model,\n",
    "              nb_layers,\n",
    "              FFN_units,\n",
    "              nb_proj,\n",
    "              dropout,\n",
    "              name=\"transformer\"):\n",
    "        super(Transformer, self).__init__(name=name)\n",
    "        \n",
    "        self.encoder = Encoder(nb_layers,\n",
    "                              FFN_units,\n",
    "                              nb_proj,\n",
    "                              dropout,\n",
    "                              vocab_size_enc,\n",
    "                              d_model)\n",
    "        self.decoder = Decoder(nb_layers,\n",
    "                              FFN_units,\n",
    "                              nb_proj,\n",
    "                              dropout,\n",
    "                              vocab_size_dec,\n",
    "                              d_model)\n",
    "        \n",
    "        self.last_linear = layers.Dense(units=vocab_size_dec)\n",
    "        \n",
    "    def create_padding_mask(self, seq): # seq: (batch_size,seq_length)\n",
    "        mask = tf.cast(tf.math.equal(seq,0),tf.float32)\n",
    "        return mask[:,tf.newaxis,tf.newaxis,:]\n",
    "    \n",
    "    # While translating we do not need to know future words.\n",
    "    '''Creates a  square matrix of seq_len. if i>j matrix element is 1 else\n",
    "    matrix element is 0'''\n",
    "    def create_look_ahead_mask(self, seq):\n",
    "        seq_len = tf.shape(seq)[1]\n",
    "        look_ahead_mask = 1 - tf.linalg.band_part(tf.ones((seq_len,seq_len)),-1,0)\n",
    "        return look_ahead_mask\n",
    "    \n",
    "    def call(self, enc_inputs,dec_inputs, training):\n",
    "        enc_mask=self.create_padding_mask(enc_inputs)\n",
    "        dec_mask_1= tf.maximum(self.create_padding_mask(dec_inputs), \n",
    "                               self.create_look_ahead_mask(dec_inputs))\n",
    "        dec_mask_2 = self.create_padding_mask(enc_inputs)\n",
    "        \n",
    "        enc_outputs = self.encoder(enc_inputs,enc_mask, training)\n",
    "        dec_outputs = self.decoder(dec_inputs,\n",
    "                                   enc_outputs,\n",
    "                                   dec_mask_1,\n",
    "                                   dec_mask_2,\n",
    "                                   training)\n",
    "        \n",
    "        outputs = self.last_linear(dec_outputs)\n",
    "        return outputs\n",
    "    "
   ]
  },
  {
   "cell_type": "code",
   "execution_count": 19,
   "id": "dc748e6b",
   "metadata": {},
   "outputs": [
    {
     "name": "stdout",
     "output_type": "stream",
     "text": [
      "tf.Tensor(\n",
      "[[0. 1. 1. 1. 1.]\n",
      " [0. 0. 1. 1. 1.]\n",
      " [0. 0. 0. 1. 1.]\n",
      " [0. 0. 0. 0. 1.]\n",
      " [0. 0. 0. 0. 0.]], shape=(5, 5), dtype=float32)\n"
     ]
    }
   ],
   "source": [
    "# Formula used for Look Ahead Mask\n",
    "print(1 - tf.linalg.band_part(tf.ones((5,5)),-1,0))"
   ]
  },
  {
   "cell_type": "markdown",
   "id": "be921bb2",
   "metadata": {},
   "source": [
    "# Application\n",
    "\n",
    "## Training"
   ]
  },
  {
   "cell_type": "code",
   "execution_count": 20,
   "id": "e0e0917d",
   "metadata": {},
   "outputs": [],
   "source": [
    "# Training\n",
    "tf.keras.backend.clear_session()\n",
    "\n",
    "#Hyper parameters\n",
    "D_MODEL=128 # 512 in All you need is Attention\n",
    "NB_LAYERS=6 # 6\n",
    "FFN_UNITS = 512 # 2048 in All you need is Attention\n",
    "NB_PROJ = 8 # 8\n",
    "DROUPOUT = 0.01 # 0.1 in All you need is Attention\n",
    "\n",
    "transformer = Transformer(vocab_size_enc = VOCAB_SIZE_QUESTIONS, # 1796\n",
    "                          vocab_size_dec = VOCAB_SIZE_QUERIES, # 2019\n",
    "                          d_model= D_MODEL,\n",
    "                          nb_layers=NB_LAYERS,\n",
    "                          FFN_units=FFN_UNITS,\n",
    "                          nb_proj=NB_PROJ,\n",
    "                          dropout=DROUPOUT)"
   ]
  },
  {
   "cell_type": "code",
   "execution_count": 21,
   "id": "54022de7",
   "metadata": {},
   "outputs": [],
   "source": [
    "loss_object = tf.keras.losses.SparseCategoricalCrossentropy(from_logits=True,\n",
    "                                                            reduction=\"none\")\n",
    "\n",
    "def loss_funstion(target, pred):\n",
    "    #To mask padding tokens when computing loss so we only use prediction of real words and not the 0s we added at end\n",
    "    mask=tf.math.logical_not(tf.math.equal(target, 0))\n",
    "    loss_=loss_object(target,pred)\n",
    "    \n",
    "    mask = tf.cast(mask,dtype=loss_.dtype)\n",
    "    loss_*=mask\n",
    "    return tf.reduce_mean(loss_)\n",
    "\n",
    "# Keeps track of losses during training\n",
    "train_loss = tf.keras.metrics.Mean(name=\"train_loss\")\n",
    "# Keeps track of training Accuracy\n",
    "train_accuracy = tf.keras.metrics.SparseCategoricalAccuracy(name=\"train_accuracy\")"
   ]
  },
  {
   "cell_type": "markdown",
   "id": "73e0b436",
   "metadata": {},
   "source": [
    "# Optimizer\n",
    "\n",
    "$Irate = d^{(-0.5)}_{(model)} \\cdot min(step\\_num^{(-0.5)}, step\\_num \\cdot warmup\\_steps^{(-1.5)})$"
   ]
  },
  {
   "cell_type": "code",
   "execution_count": 22,
   "id": "f3d9645d",
   "metadata": {},
   "outputs": [],
   "source": [
    "# To create custom Learning Rate\n",
    "class CustomSchedule(tf.keras.optimizers.schedules.LearningRateSchedule):\n",
    "    def __init__(self, d_model, warmup_steps=4000):\n",
    "        super(CustomSchedule,self).__init__()\n",
    "        \n",
    "        self.d_model = tf.cast(d_model,\n",
    "                               tf.float32)\n",
    "        self.warmup_steps=warmup_steps\n",
    "        \n",
    "    def __call__(self,step):\n",
    "        arg1=tf.math.rsqrt(step)\n",
    "        arg2=step*(self.warmup_steps**-1.5)\n",
    "        return tf.math.rsqrt(self.d_model)*tf.math.minimum(arg1,arg2)"
   ]
  },
  {
   "cell_type": "code",
   "execution_count": 23,
   "id": "65201511",
   "metadata": {},
   "outputs": [
    {
     "name": "stdout",
     "output_type": "stream",
     "text": [
      "Latest Checkpoint Restored\n"
     ]
    }
   ],
   "source": [
    "# Using Custom LEarning rate in Adam Model\n",
    "learning_rate=CustomSchedule(D_MODEL)\n",
    "optimizer=tf.keras.optimizers.Adam(learning_rate,\n",
    "                                   beta_1=0.9,\n",
    "                                   beta_2=0.98,\n",
    "                                   epsilon=1e-9)\n",
    "\n",
    "checkpoint_path =\"Checkpoints\"\n",
    "ckpt=tf.train.Checkpoint(transformer=transformer,\n",
    "                   optimizer=optimizer)\n",
    "# Keeping only the last 5 checkpoints. If there are more than 5, the older ones get deleted.\n",
    "ckpt_manager = tf.train.CheckpointManager(ckpt, checkpoint_path, max_to_keep=5)\n",
    "\n",
    "if ckpt_manager.latest_checkpoint:\n",
    "    ckpt.restore(ckpt_manager.latest_checkpoint)\n",
    "    print(\"Latest Checkpoint Restored\")"
   ]
  },
  {
   "cell_type": "markdown",
   "id": "7ac3b819",
   "metadata": {},
   "source": [
    "## Training the Model\n",
    "( Do not execute this unless you want to train the model again. Themodel has been trained already for 1500 epoch and provides an accuracy of 82 %)"
   ]
  },
  {
   "cell_type": "code",
   "execution_count": 24,
   "id": "08fe773f",
   "metadata": {},
   "outputs": [
    {
     "name": "stdout",
     "output_type": "stream",
     "text": [
      "Start of epoch 1\n",
      "Epoch 1 Batch 0 Loss 0.0035 Accuracy 0.8265\n",
      "Saving checkpoint for ecpoch 1 at Checkpoints\\ckpt-1501\n",
      "Time taken for 1 epoch 34.28913331031799 secs\n",
      "\n"
     ]
    }
   ],
   "source": [
    "EPOCHS=1\n",
    "for epoch in range(EPOCHS):\n",
    "    print(\"Start of epoch {}\".format(epoch+1))\n",
    "    start=time.time()\n",
    "    \n",
    "    train_loss.reset_states()\n",
    "    train_accuracy.reset_states()\n",
    "    \n",
    "    for(batch,(enc_inputs,targets)) in enumerate(dataset):\n",
    "        dec_inputs=targets[:,:-1]\n",
    "        dec_outputs_real = targets[:,1:]\n",
    "        with tf.GradientTape() as tape:\n",
    "            predictions = transformer(enc_inputs,dec_inputs,True)\n",
    "            loss = loss_funstion(dec_outputs_real, predictions)\n",
    "        \n",
    "        gradients = tape.gradient(loss, transformer.trainable_variables)\n",
    "        optimizer.apply_gradients(zip(gradients,transformer.trainable_variables ))\n",
    "        \n",
    "        train_loss(loss)\n",
    "        train_accuracy(dec_outputs_real,predictions)\n",
    "        \n",
    "        if batch%50==0:\n",
    "            print(\"Epoch {} Batch {} Loss {:.4f} Accuracy {:.4f}\".format(epoch+1,\n",
    "                                                                          batch,\n",
    "                                                                          train_loss.result(),\n",
    "                                                                          train_accuracy.result()))\n",
    "                  \n",
    "        ckpt_save_path =ckpt_manager.save()\n",
    "        print(\"Saving checkpoint for ecpoch {} at {}\".format(epoch+1,\n",
    "                                                             ckpt_save_path))\n",
    "        print(\"Time taken for 1 epoch {} secs\\n\".format(time.time()-start))"
   ]
  },
  {
   "cell_type": "markdown",
   "id": "3bddf73d",
   "metadata": {},
   "source": [
    "# Vaidation"
   ]
  },
  {
   "cell_type": "code",
   "execution_count": 158,
   "id": "c70ce78d",
   "metadata": {},
   "outputs": [],
   "source": [
    "y_pred=[] #List to store predicted output\n",
    "\n",
    "#Cleaning the Validation Set Questions\n",
    "clean_questions_val=[]\n",
    "for question in X_valid['question']:\n",
    "    clean_questions_val.append(clean_text(question))"
   ]
  },
  {
   "cell_type": "markdown",
   "id": "e57f0a32",
   "metadata": {},
   "source": [
    "## Evaluation"
   ]
  },
  {
   "cell_type": "code",
   "execution_count": 159,
   "id": "5a789d9a",
   "metadata": {},
   "outputs": [],
   "source": [
    "def evaluate(inp_sentence):\n",
    "    inp_sentence = [VOCAB_SIZE_QUESTIONS-2] + tokenizer_questions.encode(inp_sentence) + [VOCAB_SIZE_QUESTIONS-1]\n",
    "    enc_input = tf.expand_dims(inp_sentence, axis=0)\n",
    "        \n",
    "    output = tf.expand_dims([VOCAB_SIZE_QUERIES-2], axis=0)\n",
    "    \n",
    "    for _ in range(MAX_LENGTH):\n",
    "        predictions = transformer(enc_input, output, False) # 1, seq_length, VOCAB_SIZE_QUERIES\n",
    "        prediction = predictions[:, -1:, :]\n",
    "        \n",
    "        predicted_id = tf.cast(tf.argmax(prediction, axis=-1), tf.int32)\n",
    "        \n",
    "        if predicted_id == VOCAB_SIZE_QUERIES-1:\n",
    "            return tf.squeeze(output,axis=0)\n",
    "        \n",
    "        output = tf.concat([output, predicted_id], axis=-1)\n",
    "    return tf.squeeze(output, axis=0)\n",
    "\n",
    "def ChangeUndsc(predicted_sentence):\n",
    "    output=predicted_sentence.replace('\\&undsc','_')\n",
    "    return output\n",
    "\n",
    "def translate(sentence):\n",
    "    output = evaluate(sentence).numpy()\n",
    "    predicted_sentence = tokenizer_queries.decode(\n",
    "        [i for i in output if i < VOCAB_SIZE_QUERIES-2])\n",
    "    output = ChangeUndsc(predicted_sentence)\n",
    "    print(\"Input: {}\".format(sentence))\n",
    "    print(\"Predicted Translation : {}\".format(output))\n",
    "    \n",
    "    y_pred.append(output)"
   ]
  },
  {
   "cell_type": "code",
   "execution_count": null,
   "id": "ca8dae11",
   "metadata": {},
   "outputs": [],
   "source": [
    "# Translating Validation dataset (This will take a while)\n",
    "for question in clean_questions_val:    \n",
    "    translate(question)"
   ]
  },
  {
   "cell_type": "code",
   "execution_count": 160,
   "id": "7a602aee",
   "metadata": {},
   "outputs": [],
   "source": [
    "#Create DF with X_valid, y_valid and y_pred\n",
    "y_valid = list(y_valid)\n",
    "zipped = list(zip(clean_questions_val, y_valid, y_pred))\n",
    "df_valid = pd.DataFrame(zipped, columns=['Questions','Query','Predicted'])"
   ]
  },
  {
   "cell_type": "code",
   "execution_count": 161,
   "id": "24e17274",
   "metadata": {},
   "outputs": [],
   "source": [
    "df_valid['CorrectlyPredicted'] = np.where((df_valid['Query'] == df_valid['Predicted'])\n",
    "                     , df_valid['Query'], np.nan)"
   ]
  },
  {
   "cell_type": "code",
   "execution_count": 162,
   "id": "7e657b77",
   "metadata": {},
   "outputs": [
    {
     "name": "stdout",
     "output_type": "stream",
     "text": [
      "0.25333333333333335\n"
     ]
    }
   ],
   "source": [
    "# Accuracy of predicting the whole query sequence correctly\n",
    "accuracy = df_valid[\"CorrectlyPredicted\"].notna().sum(axis=0)/150\n",
    "print(accuracy)"
   ]
  },
  {
   "cell_type": "markdown",
   "id": "18cf5bb3",
   "metadata": {},
   "source": [
    "Since we only used queries with a where condition and a Join. Lets check if all the predicted output has the same "
   ]
  },
  {
   "cell_type": "code",
   "execution_count": 164,
   "id": "5349f369",
   "metadata": {},
   "outputs": [
    {
     "name": "stdout",
     "output_type": "stream",
     "text": [
      "150\n"
     ]
    }
   ],
   "source": [
    "''' Checking if the predicted query has a where condition and a Join clause'''\n",
    "def CountJoinAndWhere():\n",
    "    df1= pd.DataFrame(columns=['Query'])\n",
    "    df1=pd.concat([df1,df_valid.loc[df_valid['Predicted'].str.contains('WHERE', case=False)]],ignore_index=True, sort=False)\n",
    "    df2= pd.DataFrame(columns=['Query'])\n",
    "    for x in range(len(df1)):\n",
    "        if(df1.loc[x]['Query'].count('JOIN')==1):\n",
    "            df2=df2.append(df1.loc[x])\n",
    "    return len(df2)\n",
    "countJoinAndWhere = CountJoinAndWhere()\n",
    "\n",
    "# All the predicted queries have a Where Conditon and a single Join Clause\n",
    "print(countJoinAndWhere)"
   ]
  },
  {
   "cell_type": "code",
   "execution_count": 165,
   "id": "bfff63c0",
   "metadata": {},
   "outputs": [],
   "source": [
    "''' Table name always comes before 'AS' Keyword so\n",
    " we increment count by 1 if the table in the query\n",
    " is found in the predicted query. Count = 2 if both \n",
    " tables are predicted correctly. Count = 1 if one of the \n",
    " table is predicted correctly and Count = 0 when none of the tables are \n",
    " predicted correctly '''\n",
    "\n",
    "def CheckTables(query, predicted):\n",
    "    table=\"\"\n",
    "    count=0\n",
    "    t=query.split()\n",
    "    temp=t.copy()\n",
    "    for i in range(len(t)):\n",
    "        if t[i]=='AS':\n",
    "            table=t[i-1]\n",
    "            if table in predicted.split():\n",
    "                count+=1\n",
    "    return count\n",
    "cnt=[]\n",
    "for i in range(len(df_valid)):\n",
    "    cnt.append(CheckTables(df_valid['Query'].iloc[i],df_valid['Predicted'].iloc[i]))\n",
    "\n",
    "df_valid['TablesPredicted Correctly'] = cnt "
   ]
  },
  {
   "cell_type": "code",
   "execution_count": 166,
   "id": "2947bd98",
   "metadata": {},
   "outputs": [
    {
     "name": "stdout",
     "output_type": "stream",
     "text": [
      "0.42\n"
     ]
    }
   ],
   "source": [
    "# accuracy of predicting tables correctly\n",
    "accuracy_tables=sum(cnt)/300\n",
    "print(accuracy_tables)"
   ]
  },
  {
   "cell_type": "code",
   "execution_count": 167,
   "id": "783b3d2a",
   "metadata": {},
   "outputs": [],
   "source": [
    "# Program to measure the similarity between \n",
    "# two sentences using cosine similarity.\n",
    "from nltk.corpus import stopwords\n",
    "from nltk.tokenize import word_tokenize\n",
    "  \n",
    "def CheckSimilarity(query, predicted):\n",
    "    X = query\n",
    "    Y = predicted\n",
    "  \n",
    "    # tokenization\n",
    "    X_list = word_tokenize(X) \n",
    "    Y_list = word_tokenize(Y)\n",
    "  \n",
    "    # sw contains the list of stopwords\n",
    "    sw = stopwords.words('english') \n",
    "    l1 =[];l2 =[]\n",
    "  \n",
    "    # remove stop words from the string\n",
    "    X_set = {w for w in X_list if not w in sw} \n",
    "    Y_set = {w for w in Y_list if not w in sw}\n",
    "  \n",
    "    # form a set containing keywords of both strings \n",
    "    rvector = X_set.union(Y_set) \n",
    "    for w in rvector:\n",
    "        if w in X_set: l1.append(1) # create a vector\n",
    "        else: l1.append(0)\n",
    "        if w in Y_set: l2.append(1)\n",
    "        else: l2.append(0)\n",
    "        c = 0\n",
    "  \n",
    "    # cosine formula \n",
    "    for i in range(len(rvector)):\n",
    "        c+= l1[i]*l2[i]\n",
    "    cosine = c / float((sum(l1)*sum(l2))**0.5)\n",
    "    #print(\"similarity: \", cosine)\n",
    "    return cosine\n",
    "sim=[]\n",
    "for i in range(len(df_valid)):\n",
    "    sim.append(CheckSimilarity(df_valid['Query'].iloc[i],df_valid['Predicted'].iloc[i]))\n",
    "df_valid['Similarity']=sim"
   ]
  },
  {
   "cell_type": "code",
   "execution_count": 168,
   "id": "dd651f46",
   "metadata": {},
   "outputs": [
    {
     "name": "stdout",
     "output_type": "stream",
     "text": [
      "0.6766533086086945\n"
     ]
    }
   ],
   "source": [
    "#Average similarity between Query and Predicted is 67 %\n",
    "average_sim=df_valid['Similarity'].mean()\n",
    "print(average_sim)"
   ]
  },
  {
   "cell_type": "code",
   "execution_count": 197,
   "id": "15f5eeec",
   "metadata": {},
   "outputs": [],
   "source": [
    "''' Column name always has '.' eg:- 'T1.table_name'\n",
    "    We find wordswith '.' from the query and add it to a list.\n",
    "    Then increase a count if a word from the list appears in \n",
    "    the predicted query. Then we divide count b length of the list\n",
    "    to get the propotion of times column was predicted correctly\n",
    "'''\n",
    "def CheckColumnNames(query, predicted):\n",
    "    c=[]\n",
    "    count=0\n",
    "    out=0\n",
    "    for word in query.split():\n",
    "        if '.' in word:\n",
    "            c.append(word)\n",
    "    for word in predicted.split():\n",
    "        if '.' in word:\n",
    "            if word in c:\n",
    "                count+=1\n",
    "    if len(c) != 0:\n",
    "        out=count/len(c)\n",
    "    return out"
   ]
  },
  {
   "cell_type": "code",
   "execution_count": null,
   "id": "5fc6d6e2",
   "metadata": {},
   "outputs": [],
   "source": [
    "ct=[]\n",
    "for i in range(len(df_valid)):\n",
    "    ct.append(CheckColumnNames(df_valid['Query'].iloc[i],df_valid['Predicted'].iloc[i]))\n",
    "df_valid['Columns predicted Correctly']=ct"
   ]
  },
  {
   "cell_type": "code",
   "execution_count": 204,
   "id": "c7fcc344",
   "metadata": {},
   "outputs": [
    {
     "name": "stdout",
     "output_type": "stream",
     "text": [
      "0.3802777777777777\n"
     ]
    }
   ],
   "source": [
    "# Average of Predicting columns correctly overall is 0.38\n",
    "average_cols = df_valid['Columns predicted Correctly'].mean()\n",
    "print(average_cols)"
   ]
  },
  {
   "cell_type": "code",
   "execution_count": 206,
   "id": "c659a46e",
   "metadata": {},
   "outputs": [
    {
     "data": {
      "text/html": [
       "<div>\n",
       "<style scoped>\n",
       "    .dataframe tbody tr th:only-of-type {\n",
       "        vertical-align: middle;\n",
       "    }\n",
       "\n",
       "    .dataframe tbody tr th {\n",
       "        vertical-align: top;\n",
       "    }\n",
       "\n",
       "    .dataframe thead th {\n",
       "        text-align: right;\n",
       "    }\n",
       "</style>\n",
       "<table border=\"1\" class=\"dataframe\">\n",
       "  <thead>\n",
       "    <tr style=\"text-align: right;\">\n",
       "      <th></th>\n",
       "      <th>Questions</th>\n",
       "      <th>Query</th>\n",
       "      <th>Predicted</th>\n",
       "      <th>CorrectlyPredicted</th>\n",
       "      <th>TablesPredicted Correctly</th>\n",
       "      <th>Similarity</th>\n",
       "      <th>Columns predicted Correctly</th>\n",
       "    </tr>\n",
       "  </thead>\n",
       "  <tbody>\n",
       "    <tr>\n",
       "      <th>0</th>\n",
       "      <td>SHOW THE TIMES USED BY CLIMBERS TO CLIMB MOUNT...</td>\n",
       "      <td>SELECT T1.TIME FROM CLIMBER AS T1 JOIN MOUNTAI...</td>\n",
       "      <td>SELECT T1.TIME FROM CLIMBER AS T1 JOIN MOUNTAI...</td>\n",
       "      <td>SELECT T1.TIME FROM CLIMBER AS T1 JOIN MOUNTAI...</td>\n",
       "      <td>2</td>\n",
       "      <td>1.000000</td>\n",
       "      <td>1.0</td>\n",
       "    </tr>\n",
       "    <tr>\n",
       "      <th>1</th>\n",
       "      <td>WHAT IS THE TEMPERATURE OF SHANGHAI CITY IN JA...</td>\n",
       "      <td>SELECT T2.JAN FROM CITY AS T1 JOIN TEMPERATURE...</td>\n",
       "      <td>SELECT T2.JAN FROM CITY AS T1 JOIN TEMPERATURE...</td>\n",
       "      <td>SELECT T2.JAN FROM CITY AS T1 JOIN TEMPERATURE...</td>\n",
       "      <td>2</td>\n",
       "      <td>1.000000</td>\n",
       "      <td>1.0</td>\n",
       "    </tr>\n",
       "    <tr>\n",
       "      <th>2</th>\n",
       "      <td>WHAT ARE THE FIRST NAMES OF THE TEACHERS WHO T...</td>\n",
       "      <td>SELECT DISTINCT T2.FIRSTNAME FROM LIST AS T1 J...</td>\n",
       "      <td>SELECT DISTINCT T2.FIRSTNAME FROM LIST AS T1 J...</td>\n",
       "      <td>SELECT DISTINCT T2.FIRSTNAME FROM LIST AS T1 J...</td>\n",
       "      <td>2</td>\n",
       "      <td>1.000000</td>\n",
       "      <td>1.0</td>\n",
       "    </tr>\n",
       "    <tr>\n",
       "      <th>3</th>\n",
       "      <td>FIND THE TOTAL AMOUNT OF PRODUCTS ORDERED BEFO...</td>\n",
       "      <td>SELECT SUM(T2.ORDER_QUANTITY) FROM CUSTOMER_OR...</td>\n",
       "      <td>SELECT T1.PRODUCT_NAME FROM PRODUCTS AS T1 JOI...</td>\n",
       "      <td>NaN</td>\n",
       "      <td>0</td>\n",
       "      <td>0.505722</td>\n",
       "      <td>0.0</td>\n",
       "    </tr>\n",
       "    <tr>\n",
       "      <th>4</th>\n",
       "      <td>WHAT IS THE LAST NAME OF THE PROFESSOR WHOSE O...</td>\n",
       "      <td>SELECT T1.EMP_LNAME ,  T1.EMP_HIREDATE FROM EM...</td>\n",
       "      <td>SELECT T1.CATALOG_NAME ,  T1.TITLE FROM SHOP A...</td>\n",
       "      <td>NaN</td>\n",
       "      <td>0</td>\n",
       "      <td>0.564288</td>\n",
       "      <td>0.0</td>\n",
       "    </tr>\n",
       "  </tbody>\n",
       "</table>\n",
       "</div>"
      ],
      "text/plain": [
       "                                           Questions  \\\n",
       "0  SHOW THE TIMES USED BY CLIMBERS TO CLIMB MOUNT...   \n",
       "1  WHAT IS THE TEMPERATURE OF SHANGHAI CITY IN JA...   \n",
       "2  WHAT ARE THE FIRST NAMES OF THE TEACHERS WHO T...   \n",
       "3  FIND THE TOTAL AMOUNT OF PRODUCTS ORDERED BEFO...   \n",
       "4  WHAT IS THE LAST NAME OF THE PROFESSOR WHOSE O...   \n",
       "\n",
       "                                               Query  \\\n",
       "0  SELECT T1.TIME FROM CLIMBER AS T1 JOIN MOUNTAI...   \n",
       "1  SELECT T2.JAN FROM CITY AS T1 JOIN TEMPERATURE...   \n",
       "2  SELECT DISTINCT T2.FIRSTNAME FROM LIST AS T1 J...   \n",
       "3  SELECT SUM(T2.ORDER_QUANTITY) FROM CUSTOMER_OR...   \n",
       "4  SELECT T1.EMP_LNAME ,  T1.EMP_HIREDATE FROM EM...   \n",
       "\n",
       "                                           Predicted  \\\n",
       "0  SELECT T1.TIME FROM CLIMBER AS T1 JOIN MOUNTAI...   \n",
       "1  SELECT T2.JAN FROM CITY AS T1 JOIN TEMPERATURE...   \n",
       "2  SELECT DISTINCT T2.FIRSTNAME FROM LIST AS T1 J...   \n",
       "3  SELECT T1.PRODUCT_NAME FROM PRODUCTS AS T1 JOI...   \n",
       "4  SELECT T1.CATALOG_NAME ,  T1.TITLE FROM SHOP A...   \n",
       "\n",
       "                                  CorrectlyPredicted  \\\n",
       "0  SELECT T1.TIME FROM CLIMBER AS T1 JOIN MOUNTAI...   \n",
       "1  SELECT T2.JAN FROM CITY AS T1 JOIN TEMPERATURE...   \n",
       "2  SELECT DISTINCT T2.FIRSTNAME FROM LIST AS T1 J...   \n",
       "3                                                NaN   \n",
       "4                                                NaN   \n",
       "\n",
       "   TablesPredicted Correctly  Similarity  Columns predicted Correctly  \n",
       "0                          2    1.000000                          1.0  \n",
       "1                          2    1.000000                          1.0  \n",
       "2                          2    1.000000                          1.0  \n",
       "3                          0    0.505722                          0.0  \n",
       "4                          0    0.564288                          0.0  "
      ]
     },
     "execution_count": 206,
     "metadata": {},
     "output_type": "execute_result"
    }
   ],
   "source": [
    "df_valid.head()"
   ]
  },
  {
   "cell_type": "code",
   "execution_count": 171,
   "id": "77d3e489",
   "metadata": {},
   "outputs": [],
   "source": [
    "# Saving to CSV\n",
    "df_valid.to_csv('ValidationSetDataFrame.csv',index=False, float_format='%.8g')"
   ]
  },
  {
   "cell_type": "markdown",
   "id": "0f711fdd",
   "metadata": {},
   "source": [
    "# Testing"
   ]
  },
  {
   "cell_type": "code",
   "execution_count": 172,
   "id": "ffb142f3",
   "metadata": {},
   "outputs": [],
   "source": [
    "y_pred=[]\n",
    "#Cleaning the Questions\n",
    "clean_questions_test=[]\n",
    "for question in X_test['question']:\n",
    "    clean_questions_test.append(clean_text(question))"
   ]
  },
  {
   "cell_type": "code",
   "execution_count": 173,
   "id": "9fec032d",
   "metadata": {},
   "outputs": [],
   "source": [
    "# Translating Testing dataset (This will take a while)\n",
    "for question in clean_questions_test:    \n",
    "    translate(question)"
   ]
  },
  {
   "cell_type": "code",
   "execution_count": 174,
   "id": "24bb1f25",
   "metadata": {},
   "outputs": [],
   "source": [
    "#Create DF with X_test, y_test and y_test\n",
    "y_pred = list(y_pred)\n",
    "zipped = list(zip(clean_questions_test, y_test, y_pred))\n",
    "df_test = pd.DataFrame(zipped, columns=['Questions','Query','Predicted'])"
   ]
  },
  {
   "cell_type": "code",
   "execution_count": 175,
   "id": "267372c6",
   "metadata": {},
   "outputs": [],
   "source": [
    "#Test Accuracy\n",
    "df_test['CorrectlyPredicted'] = np.where((df_test['Query'] == df_test['Predicted'])\n",
    "                     , df_test['Query'], np.nan)\n",
    "accuracy_test = df_test[\"CorrectlyPredicted\"].notna().sum(axis=0)/150"
   ]
  },
  {
   "cell_type": "code",
   "execution_count": 176,
   "id": "bc3b5060",
   "metadata": {},
   "outputs": [
    {
     "data": {
      "text/plain": [
       "0.24666666666666667"
      ]
     },
     "execution_count": 176,
     "metadata": {},
     "output_type": "execute_result"
    }
   ],
   "source": [
    "accuracy_test"
   ]
  },
  {
   "cell_type": "code",
   "execution_count": 177,
   "id": "a51f6195",
   "metadata": {},
   "outputs": [
    {
     "name": "stdout",
     "output_type": "stream",
     "text": [
      "150\n"
     ]
    }
   ],
   "source": [
    "countJoinAndWhere_test = CountJoinAndWhere()\n",
    "print(countJoinAndWhere_test)"
   ]
  },
  {
   "cell_type": "code",
   "execution_count": 178,
   "id": "a24061dd",
   "metadata": {},
   "outputs": [
    {
     "name": "stdout",
     "output_type": "stream",
     "text": [
      "0.45\n"
     ]
    }
   ],
   "source": [
    "# accuracy of predicting tables correctly\n",
    "cnt_test=[]\n",
    "for i in range(len(df_test)):\n",
    "    cnt_test.append(CheckTables(df_test['Query'].iloc[i],df_test['Predicted'].iloc[i]))\n",
    "\n",
    "df_test['TablesPredicted Correctly'] = cnt_test \n",
    "accuracy_tables_test=sum(cnt_test)/300\n",
    "print(accuracy_tables_test)"
   ]
  },
  {
   "cell_type": "code",
   "execution_count": 179,
   "id": "75f589ea",
   "metadata": {},
   "outputs": [],
   "source": [
    "sim_test=[]\n",
    "for i in range(len(df_test)):\n",
    "    sim_test.append(CheckSimilarity(df_test['Query'].iloc[i],df_test['Predicted'].iloc[i]))\n",
    "df_test['Similarity']=sim_test"
   ]
  },
  {
   "cell_type": "code",
   "execution_count": 180,
   "id": "6904f5d5",
   "metadata": {},
   "outputs": [
    {
     "name": "stdout",
     "output_type": "stream",
     "text": [
      "0.6905821815193827\n"
     ]
    }
   ],
   "source": [
    "#Average similarity between Query and Predicted is 67 %\n",
    "average_sim_test=df_test['Similarity'].mean()\n",
    "print(average_sim_test)"
   ]
  },
  {
   "cell_type": "code",
   "execution_count": 198,
   "id": "03f192e1",
   "metadata": {},
   "outputs": [],
   "source": [
    "ct_test=[]\n",
    "for i in range(len(df_test)):\n",
    "    ct_test.append(CheckColumnNames(df_test['Query'].iloc[i],df_test['Predicted'].iloc[i]))\n",
    "df_test['Columns predicted Correctly']=ct_test"
   ]
  },
  {
   "cell_type": "code",
   "execution_count": 203,
   "id": "b00b5cfa",
   "metadata": {},
   "outputs": [
    {
     "name": "stdout",
     "output_type": "stream",
     "text": [
      "0.3876825396825397\n"
     ]
    }
   ],
   "source": [
    "# Average of Predicting columns correctly overall is 0.38\n",
    "average_cols_test = df_test['Columns predicted Correctly'].mean()\n",
    "print(average_cols_test)"
   ]
  },
  {
   "cell_type": "code",
   "execution_count": 234,
   "id": "31aa03a8",
   "metadata": {},
   "outputs": [],
   "source": [
    "''' Creating a Effeciveness Column for categorizing the effectiveness of the model\n",
    "Categorizing based on cosine similarity into very poor, poor, good, very good and excellent'''\n",
    "df_test['Effectiveness']=''\n",
    "for i in range(len(df_test)):\n",
    "    if df_test['Similarity'].iloc[i]>=0 and df_test['Similarity'].iloc[i] <=0.2:\n",
    "        df_test['Effectiveness'].iloc[i]='Very Poor'\n",
    "    elif df_test['Similarity'].iloc[i]>0.2 and df_test['Similarity'].iloc[i] <=0.4:\n",
    "        df_test['Effectiveness'].iloc[i]='Poor'\n",
    "    elif df_test['Similarity'].iloc[i]>0.4 and df_test['Similarity'].iloc[i] <=0.6:\n",
    "        df_test['Effectiveness'].iloc[i]='Good'\n",
    "    elif df_test['Similarity'].iloc[i]>0.6 and df_test['Similarity'].iloc[i] <=0.8:\n",
    "        df_test['Effectiveness'].iloc[i]='Very Good'\n",
    "    else:\n",
    "         df_test['Effectiveness'].iloc[i]='Excellent'         "
   ]
  },
  {
   "cell_type": "code",
   "execution_count": 235,
   "id": "903e0e51",
   "metadata": {},
   "outputs": [
    {
     "data": {
      "text/html": [
       "<div>\n",
       "<style scoped>\n",
       "    .dataframe tbody tr th:only-of-type {\n",
       "        vertical-align: middle;\n",
       "    }\n",
       "\n",
       "    .dataframe tbody tr th {\n",
       "        vertical-align: top;\n",
       "    }\n",
       "\n",
       "    .dataframe thead th {\n",
       "        text-align: right;\n",
       "    }\n",
       "</style>\n",
       "<table border=\"1\" class=\"dataframe\">\n",
       "  <thead>\n",
       "    <tr style=\"text-align: right;\">\n",
       "      <th></th>\n",
       "      <th>Questions</th>\n",
       "      <th>Query</th>\n",
       "      <th>Predicted</th>\n",
       "      <th>CorrectlyPredicted</th>\n",
       "      <th>TablesPredicted Correctly</th>\n",
       "      <th>Similarity</th>\n",
       "      <th>Columns predicted Correctly</th>\n",
       "      <th>Effectiveness</th>\n",
       "    </tr>\n",
       "  </thead>\n",
       "  <tbody>\n",
       "    <tr>\n",
       "      <th>0</th>\n",
       "      <td>COUNT THE NUMBER OF CREDIT CARDS THAT THE CUST...</td>\n",
       "      <td>SELECT COUNT(*) FROM CUSTOMERS_CARDS AS T1 JOI...</td>\n",
       "      <td>SELECT T2.CUSTOMER_FIRST_NAME ,  T2.CUSTOMER_L...</td>\n",
       "      <td>NaN</td>\n",
       "      <td>1</td>\n",
       "      <td>0.701646</td>\n",
       "      <td>0.8</td>\n",
       "      <td>Very Good</td>\n",
       "    </tr>\n",
       "    <tr>\n",
       "      <th>1</th>\n",
       "      <td>WHAT ARE THE LAST NAMES OF THE TEACHERS WHO TE...</td>\n",
       "      <td>SELECT T2.LASTNAME FROM LIST AS T1 JOIN TEACHE...</td>\n",
       "      <td>SELECT T2.LASTNAME FROM LIST AS T1 JOIN TEACHE...</td>\n",
       "      <td>SELECT T2.LASTNAME FROM LIST AS T1 JOIN TEACHE...</td>\n",
       "      <td>2</td>\n",
       "      <td>1.000000</td>\n",
       "      <td>1.0</td>\n",
       "      <td>Excellent</td>\n",
       "    </tr>\n",
       "    <tr>\n",
       "      <th>2</th>\n",
       "      <td>LIST THE IDS OF THE PROBLEMS FROM THE PRODUCT ...</td>\n",
       "      <td>SELECT T1.PROBLEM_ID FROM PROBLEMS AS T1 JOIN ...</td>\n",
       "      <td>SELECT T1.PROBLEM_ID FROM PROBLEMS AS T1 JOIN ...</td>\n",
       "      <td>NaN</td>\n",
       "      <td>1</td>\n",
       "      <td>0.653275</td>\n",
       "      <td>0.2</td>\n",
       "      <td>Very Good</td>\n",
       "    </tr>\n",
       "    <tr>\n",
       "      <th>3</th>\n",
       "      <td>WHAT ARE THE TYPES OF VOCALS THAT THE BAND MEM...</td>\n",
       "      <td>SELECT TYPE FROM VOCALS AS T1 JOIN BAND AS T2 ...</td>\n",
       "      <td>SELECT TYPE FROM VOCALS AS T1 JOIN BAND AS T2 ...</td>\n",
       "      <td>SELECT TYPE FROM VOCALS AS T1 JOIN BAND AS T2 ...</td>\n",
       "      <td>2</td>\n",
       "      <td>1.000000</td>\n",
       "      <td>1.0</td>\n",
       "      <td>Excellent</td>\n",
       "    </tr>\n",
       "    <tr>\n",
       "      <th>4</th>\n",
       "      <td>WHAT ARE THE DETAILS OF THE SHOPS THAT CAN BE ...</td>\n",
       "      <td>SELECT T1.SHOP_DETAILS FROM SHOPS AS T1 JOIN T...</td>\n",
       "      <td>SELECT T1.SHOP_DETAILS FROM SHOPS AS T1 JOIN T...</td>\n",
       "      <td>SELECT T1.SHOP_DETAILS FROM SHOPS AS T1 JOIN T...</td>\n",
       "      <td>2</td>\n",
       "      <td>1.000000</td>\n",
       "      <td>1.0</td>\n",
       "      <td>Excellent</td>\n",
       "    </tr>\n",
       "  </tbody>\n",
       "</table>\n",
       "</div>"
      ],
      "text/plain": [
       "                                           Questions  \\\n",
       "0  COUNT THE NUMBER OF CREDIT CARDS THAT THE CUST...   \n",
       "1  WHAT ARE THE LAST NAMES OF THE TEACHERS WHO TE...   \n",
       "2  LIST THE IDS OF THE PROBLEMS FROM THE PRODUCT ...   \n",
       "3  WHAT ARE THE TYPES OF VOCALS THAT THE BAND MEM...   \n",
       "4  WHAT ARE THE DETAILS OF THE SHOPS THAT CAN BE ...   \n",
       "\n",
       "                                               Query  \\\n",
       "0  SELECT COUNT(*) FROM CUSTOMERS_CARDS AS T1 JOI...   \n",
       "1  SELECT T2.LASTNAME FROM LIST AS T1 JOIN TEACHE...   \n",
       "2  SELECT T1.PROBLEM_ID FROM PROBLEMS AS T1 JOIN ...   \n",
       "3  SELECT TYPE FROM VOCALS AS T1 JOIN BAND AS T2 ...   \n",
       "4  SELECT T1.SHOP_DETAILS FROM SHOPS AS T1 JOIN T...   \n",
       "\n",
       "                                           Predicted  \\\n",
       "0  SELECT T2.CUSTOMER_FIRST_NAME ,  T2.CUSTOMER_L...   \n",
       "1  SELECT T2.LASTNAME FROM LIST AS T1 JOIN TEACHE...   \n",
       "2  SELECT T1.PROBLEM_ID FROM PROBLEMS AS T1 JOIN ...   \n",
       "3  SELECT TYPE FROM VOCALS AS T1 JOIN BAND AS T2 ...   \n",
       "4  SELECT T1.SHOP_DETAILS FROM SHOPS AS T1 JOIN T...   \n",
       "\n",
       "                                  CorrectlyPredicted  \\\n",
       "0                                                NaN   \n",
       "1  SELECT T2.LASTNAME FROM LIST AS T1 JOIN TEACHE...   \n",
       "2                                                NaN   \n",
       "3  SELECT TYPE FROM VOCALS AS T1 JOIN BAND AS T2 ...   \n",
       "4  SELECT T1.SHOP_DETAILS FROM SHOPS AS T1 JOIN T...   \n",
       "\n",
       "   TablesPredicted Correctly  Similarity  Columns predicted Correctly  \\\n",
       "0                          1    0.701646                          0.8   \n",
       "1                          2    1.000000                          1.0   \n",
       "2                          1    0.653275                          0.2   \n",
       "3                          2    1.000000                          1.0   \n",
       "4                          2    1.000000                          1.0   \n",
       "\n",
       "  Effectiveness  \n",
       "0     Very Good  \n",
       "1     Excellent  \n",
       "2     Very Good  \n",
       "3     Excellent  \n",
       "4     Excellent  "
      ]
     },
     "execution_count": 235,
     "metadata": {},
     "output_type": "execute_result"
    }
   ],
   "source": [
    "df_test.head()"
   ]
  },
  {
   "cell_type": "code",
   "execution_count": 236,
   "id": "08d31fdf",
   "metadata": {},
   "outputs": [],
   "source": [
    "# Saving to CSV\n",
    "df_test.to_csv('TestSetDataFrame.csv',index=False, float_format='%.8g')"
   ]
  },
  {
   "cell_type": "code",
   "execution_count": 237,
   "id": "39d7d08d",
   "metadata": {},
   "outputs": [],
   "source": [
    "import seaborn as sns\n",
    "import matplotlib.pyplot as plt"
   ]
  },
  {
   "cell_type": "code",
   "execution_count": 245,
   "id": "90244f95",
   "metadata": {},
   "outputs": [
    {
     "data": {
      "image/png": "[encoded data removed]",
      "text/plain": [
       "<Figure size 540x360 with 1 Axes>"
      ]
     },
     "metadata": {
      "needs_background": "light"
     },
     "output_type": "display_data"
    }
   ],
   "source": [
    "g = sns.catplot(x='Effectiveness', y='Similarity', kind=\"violin\", inner=None, data=df_test,height=5, aspect=1.5)\n",
    "g = sns.swarmplot(x='Effectiveness', y='Similarity', color=\"k\", size=4, data=df_test, ax=g.ax)\n",
    "fig = g.get_figure()\n",
    "fig.savefig('SimilarityVsEffectiveness.png')"
   ]
  },
  {
   "cell_type": "code",
   "execution_count": null,
   "id": "d955a3bd",
   "metadata": {},
   "outputs": [],
   "source": []
  }
 ],
 "metadata": {
  "kernelspec": {
   "display_name": "Python 3 (ipykernel)",
   "language": "python",
   "name": "python3"
  },
  "language_info": {
   "codemirror_mode": {
    "name": "ipython",
    "version": 3
   },
   "file_extension": ".py",
   "mimetype": "text/x-python",
   "name": "python",
   "nbconvert_exporter": "python",
   "pygments_lexer": "ipython3",
   "version": "3.9.7"
  }
 },
 "nbformat": 4,
 "nbformat_minor": 5
}
