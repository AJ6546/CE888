{
 "cells": [
  {
   "cell_type": "markdown",
   "metadata": {
    "id": "nCi_99yMYIb1"
   },
   "source": [
    "In this notebook you'll create your own bootstrap function following the bootstrap algorithm (check the lecture notes!)"
   ]
  },
  {
   "cell_type": "code",
   "execution_count": 19,
   "metadata": {
    "executionInfo": {
     "elapsed": 403,
     "status": "ok",
     "timestamp": 1643375937038,
     "user": {
      "displayName": "ajay kiran",
      "photoUrl": "https://lh3.googleusercontent.com/a/default-user=s64",
      "userId": "17386896503952830029"
     },
     "user_tz": 0
    },
    "id": "LY5zujI2YC37",
    "pycharm": {
     "name": "#%%# Imports\n"
    }
   },
   "outputs": [],
   "source": [
    "import matplotlib\n",
    "import pandas as pd\n",
    "import seaborn as sns\n",
    "import numpy as np\n",
    "\n"
   ]
  },
  {
   "cell_type": "code",
   "execution_count": 20,
   "metadata": {
    "executionInfo": {
     "elapsed": 4,
     "status": "ok",
     "timestamp": 1643375937517,
     "user": {
      "displayName": "ajay kiran",
      "photoUrl": "https://lh3.googleusercontent.com/a/default-user=s64",
      "userId": "17386896503952830029"
     },
     "user_tz": 0
    },
    "id": "Eqkwj4SMY38t"
   },
   "outputs": [],
   "source": [
    "# Load the data\n",
    "df = pd.read_csv('https://raw.githubusercontent.com/albanda/CE888/master/lab2%20-%20bootstrap/customers.csv')\n",
    "data = df.values.T[1]"
   ]
  },
  {
   "cell_type": "code",
   "execution_count": 21,
   "metadata": {
    "executionInfo": {
     "elapsed": 212,
     "status": "ok",
     "timestamp": 1643375938748,
     "user": {
      "displayName": "ajay kiran",
      "photoUrl": "https://lh3.googleusercontent.com/a/default-user=s64",
      "userId": "17386896503952830029"
     },
     "user_tz": 0
    },
    "id": "Gxvc_bScYC4H",
    "pycharm": {
     "name": "#%%\n"
    }
   },
   "outputs": [],
   "source": [
    "# Checking the notes from the lecture, create here your own bootstrap function:\n",
    "# 1. Sample from the input array x to create an array of samples of shape (n_bootstraps, sample_size)\n",
    "# Hint: Check the function random.choice() on Numpy\n",
    "# 2. Calculate and save the mean of the array (this is \"data_mean\" that is returned by the function)\n",
    "# 3. Calculate the mean from each bootstrap (i.e., row) and store it.\n",
    "# (This should be an array of n_bootstraps values)\n",
    "# 4. Calculate the lower and upper bounds for a 95% CI (hint: check the percentile function on Numpy)\n",
    "# 5. Return data_mean, and the lower and upper bounds of your interval\n",
    "def bootstrap_mean(x, sample_size, n_bootstraps):\n",
    "\t# <---INSERT YOUR CODE HERE--->\n",
    "\tarr=np.random.choice(x,n_bootstraps*sample_size)\n",
    "\tarr.shape = (n_bootstraps, sample_size)\n",
    "\tdata_mean = np.mean(arr)\n",
    "\tlower, mid, upper = np.percentile(arr, [2.5, 50, 97.5])\n",
    "\treturn data_mean, lower, upper\n"
   ]
  },
  {
   "cell_type": "code",
   "execution_count": 22,
   "metadata": {
    "colab": {
     "base_uri": "https://localhost:8080/",
     "height": 441
    },
    "executionInfo": {
     "elapsed": 1033,
     "status": "ok",
     "timestamp": 1643375942692,
     "user": {
      "displayName": "ajay kiran",
      "photoUrl": "https://lh3.googleusercontent.com/a/default-user=s64",
      "userId": "17386896503952830029"
     },
     "user_tz": 0
    },
    "id": "AN7sEOcMYC4P",
    "outputId": "10a8f9f6-7d30-4fab-dcd4-b72ab694b238",
    "pycharm": {
     "name": "#%%\n"
    }
   },
   "outputs": [
    {
     "name": "stderr",
     "output_type": "stream",
     "text": [
      "/usr/local/lib/python3.7/dist-packages/seaborn/_decorators.py:43: FutureWarning: Pass the following variables as keyword args: x, y. From version 0.12, the only valid positional argument will be `data`, and passing other arguments without an explicit keyword will result in an error or misinterpretation.\n",
      "  FutureWarning\n"
     ]
    },
    {
     "data": {
      "text/plain": [
       "(0.0, 50000.0)"
      ]
     },
     "execution_count": 22,
     "metadata": {},
     "output_type": "execute_result"
    },
    {
     "data": {
      "image/png": "[encoded data removed]",
      "text/plain": [
       "<Figure size 425.125x360 with 1 Axes>"
      ]
     },
     "metadata": {
      "needs_background": "light"
     },
     "output_type": "display_data"
    }
   ],
   "source": [
    "# Call your bootstrap function and plot the results\n",
    "\n",
    "boots = []\n",
    "for i in range(100, 50000, 1000):\n",
    "    boot = bootstrap_mean(data, data.shape[0], i)\n",
    "    boots.append([i, boot[0], \"mean\"])\n",
    "    boots.append([i, boot[1], \"lower\"])\n",
    "    boots.append([i, boot[2], \"upper\"])\n",
    "\n",
    "df_boot = pd.DataFrame(boots, columns=['Bootstrap Iterations', 'Mean', \"Value\"])\n",
    "sns_plot = sns.lmplot(df_boot.columns[0], df_boot.columns[1], data=df_boot, fit_reg=False, hue=\"Value\")\n",
    "\n",
    "sns_plot.axes[0, 0].set_ylim(0,)\n",
    "sns_plot.axes[0, 0].set_xlim(0, 50000)\n"
   ]
  },
  {
   "cell_type": "markdown",
   "metadata": {
    "id": "MjtP4e2_YC4V"
   },
   "source": [
    "\n",
    "Now, modify the bootstrap function you created above so that you can pass your desired confidence interval as a parameter.\n",
    "\n"
   ]
  },
  {
   "cell_type": "code",
   "execution_count": 23,
   "metadata": {
    "executionInfo": {
     "elapsed": 222,
     "status": "ok",
     "timestamp": 1643375946319,
     "user": {
      "displayName": "ajay kiran",
      "photoUrl": "https://lh3.googleusercontent.com/a/default-user=s64",
      "userId": "17386896503952830029"
     },
     "user_tz": 0
    },
    "id": "3K9j0FuGYhHs"
   },
   "outputs": [],
   "source": [
    "def bootstrap_mean_ci(sample, sample_size, n_bootstraps, ci):\n",
    "\t# <---INSERT YOUR CODE HERE--->\n",
    "\tarr=np.random.choice(sample,(n_bootstraps, sample_size))\n",
    "\tdata_mean = np.mean(arr)\n",
    "\tbt_mean = np.mean(arr,axis=1)\n",
    "\tlower = np.percentile(bt_mean, (100-ci)/2)\n",
    "\tupper = np.percentile(bt_mean, ci+(100-ci)/2)\n",
    "\treturn data_mean, lower, upper"
   ]
  },
  {
   "cell_type": "code",
   "execution_count": 47,
   "metadata": {
    "executionInfo": {
     "elapsed": 206,
     "status": "ok",
     "timestamp": 1643377106730,
     "user": {
      "displayName": "ajay kiran",
      "photoUrl": "https://lh3.googleusercontent.com/a/default-user=s64",
      "userId": "17386896503952830029"
     },
     "user_tz": 0
    },
    "id": "ojxRCa8z6HT2"
   },
   "outputs": [],
   "source": [
    "def bootstrap_sd_ci(sample, sample_size, n_bootstraps, ci):\n",
    "\t# <---INSERT YOUR CODE HERE--->\n",
    "\tarr=np.random.choice(sample,(n_bootstraps, sample_size))\n",
    "\tdata_mean = np.mean(arr)\n",
    "\tbt_mean = np.std(arr,axis=1)\n",
    "\tlower = np.percentile(bt_mean, (100-ci)/2)\n",
    "\tupper = np.percentile(bt_mean, ci+(100-ci)/2)\n",
    "\treturn data_mean, lower, upper"
   ]
  },
  {
   "cell_type": "code",
   "execution_count": 28,
   "metadata": {
    "colab": {
     "base_uri": "https://localhost:8080/",
     "height": 441
    },
    "executionInfo": {
     "elapsed": 994,
     "status": "ok",
     "timestamp": 1643376083731,
     "user": {
      "displayName": "ajay kiran",
      "photoUrl": "https://lh3.googleusercontent.com/a/default-user=s64",
      "userId": "17386896503952830029"
     },
     "user_tz": 0
    },
    "id": "uDnjq08GYl-C",
    "outputId": "31a3316f-43a9-48cc-89c6-884d0014e8af"
   },
   "outputs": [
    {
     "name": "stderr",
     "output_type": "stream",
     "text": [
      "/usr/local/lib/python3.7/dist-packages/seaborn/_decorators.py:43: FutureWarning: Pass the following variables as keyword args: x, y. From version 0.12, the only valid positional argument will be `data`, and passing other arguments without an explicit keyword will result in an error or misinterpretation.\n",
      "  FutureWarning\n"
     ]
    },
    {
     "name": "stdout",
     "output_type": "stream",
     "text": [
      "[[100, 9.51, 'mean'], [100, 7.821428571428571, 'lower'], [100, 11.649999999999999, 'upper'], [1100, 9.147467532467532, 'mean'], [1100, 7.357142857142857, 'lower'], [1100, 11.071428571428571, 'upper'], [2100, 9.181462585034014, 'mean'], [2100, 7.285714285714286, 'lower'], [2100, 11.142857142857142, 'upper'], [3100, 9.235391705069125, 'mean'], [3100, 7.285714285714286, 'lower'], [3100, 11.214285714285712, 'upper'], [4100, 9.20815331010453, 'mean'], [4100, 7.285714285714286, 'lower'], [4100, 11.214285714285712, 'upper'], [5100, 9.248935574229693, 'mean'], [5100, 7.357142857142857, 'lower'], [5100, 11.221428571428598, 'upper'], [6100, 9.205105386416863, 'mean'], [6100, 7.285714285714286, 'lower'], [6100, 11.142857142857142, 'upper'], [7100, 9.208913480885311, 'mean'], [7100, 7.357142857142856, 'lower'], [7100, 11.214285714285714, 'upper'], [8100, 9.246657848324515, 'mean'], [8100, 7.285714285714286, 'lower'], [8100, 11.285714285714286, 'upper'], [9100, 9.222935635792778, 'mean'], [9100, 7.285714285714286, 'lower'], [9100, 11.214285714285714, 'upper'], [10100, 9.220685997171145, 'mean'], [10100, 7.285714285714286, 'lower'], [10100, 11.214285714285714, 'upper'], [11100, 9.211801801801801, 'mean'], [11100, 7.285714285714286, 'lower'], [11100, 11.214285714285714, 'upper'], [12100, 9.21904958677686, 'mean'], [12100, 7.357142857142856, 'lower'], [12100, 11.214285714285714, 'upper'], [13100, 9.217900763358779, 'mean'], [13100, 7.285714285714286, 'lower'], [13100, 11.214285714285714, 'upper'], [14100, 9.216509625126646, 'mean'], [14100, 7.285714285714286, 'lower'], [14100, 11.214285714285714, 'upper'], [15100, 9.18763954588458, 'mean'], [15100, 7.285714285714286, 'lower'], [15100, 11.214285714285714, 'upper'], [16100, 9.222586512866016, 'mean'], [16100, 7.285714285714286, 'lower'], [16100, 11.214285714285714, 'upper'], [17100, 9.235547201336676, 'mean'], [17100, 7.357142857142856, 'lower'], [17100, 11.214285714285714, 'upper'], [18100, 9.193650355169693, 'mean'], [18100, 7.285714285714286, 'lower'], [18100, 11.214285714285714, 'upper'], [19100, 9.209379207180254, 'mean'], [19100, 7.285714285714286, 'lower'], [19100, 11.214285714285714, 'upper'], [20100, 9.235334044065388, 'mean'], [20100, 7.357142857142856, 'lower'], [20100, 11.214285714285714, 'upper'], [21100, 9.215548408937034, 'mean'], [21100, 7.285714285714286, 'lower'], [21100, 11.214285714285714, 'upper'], [22100, 9.2220523594053, 'mean'], [22100, 7.285714285714286, 'lower'], [22100, 11.214285714285714, 'upper'], [23100, 9.202455163883736, 'mean'], [23100, 7.285714285714286, 'lower'], [23100, 11.214285714285714, 'upper'], [24100, 9.2393390634262, 'mean'], [24100, 7.285714285714286, 'lower'], [24100, 11.214285714285714, 'upper'], [25100, 9.19704610130905, 'mean'], [25100, 7.285714285714286, 'lower'], [25100, 11.214285714285714, 'upper'], [26100, 9.213897099069513, 'mean'], [26100, 7.285714285714286, 'lower'], [26100, 11.214285714285714, 'upper'], [27100, 9.204926199261992, 'mean'], [27100, 7.285714285714286, 'lower'], [27100, 11.142857142857142, 'upper'], [28100, 9.19969242501271, 'mean'], [28100, 7.357142857142856, 'lower'], [28100, 11.142857142857142, 'upper'], [29100, 9.228868433971527, 'mean'], [29100, 7.285714285714286, 'lower'], [29100, 11.214285714285714, 'upper'], [30100, 9.221988609397247, 'mean'], [30100, 7.285714285714286, 'lower'], [30100, 11.214285714285714, 'upper'], [31100, 9.22180753330271, 'mean'], [31100, 7.285714285714286, 'lower'], [31100, 11.214285714285714, 'upper'], [32100, 9.206308411214954, 'mean'], [32100, 7.285714285714286, 'lower'], [32100, 11.214285714285714, 'upper'], [33100, 9.225243849805784, 'mean'], [33100, 7.285714285714286, 'lower'], [33100, 11.214285714285714, 'upper'], [34100, 9.22091956430666, 'mean'], [34100, 7.285714285714286, 'lower'], [34100, 11.214285714285714, 'upper'], [35100, 9.207260887260887, 'mean'], [35100, 7.285714285714286, 'lower'], [35100, 11.214285714285714, 'upper'], [36100, 9.213211317768105, 'mean'], [36100, 7.285714285714286, 'lower'], [36100, 11.214285714285714, 'upper'], [37100, 9.203787061994609, 'mean'], [37100, 7.285714285714286, 'lower'], [37100, 11.142857142857142, 'upper'], [38100, 9.219531308586427, 'mean'], [38100, 7.285714285714286, 'lower'], [38100, 11.214285714285714, 'upper'], [39100, 9.202203142126416, 'mean'], [39100, 7.285714285714286, 'lower'], [39100, 11.214285714285714, 'upper'], [40100, 9.211665479159246, 'mean'], [40100, 7.285714285714286, 'lower'], [40100, 11.214285714285714, 'upper'], [41100, 9.213435870698644, 'mean'], [41100, 7.285714285714285, 'lower'], [41100, 11.214285714285714, 'upper'], [42100, 9.221194435018663, 'mean'], [42100, 7.285714285714285, 'lower'], [42100, 11.214285714285714, 'upper'], [43100, 9.221085515412662, 'mean'], [43100, 7.357142857142857, 'lower'], [43100, 11.214285714285714, 'upper'], [44100, 9.216195335276968, 'mean'], [44100, 7.285714285714285, 'lower'], [44100, 11.214285714285714, 'upper'], [45100, 9.216845106113398, 'mean'], [45100, 7.285714285714285, 'lower'], [45100, 11.214285714285714, 'upper'], [46100, 9.218400991633096, 'mean'], [46100, 7.285714285714285, 'lower'], [46100, 11.214285714285714, 'upper'], [47100, 9.21223839854413, 'mean'], [47100, 7.285714285714285, 'lower'], [47100, 11.214285714285714, 'upper'], [48100, 9.218574398574399, 'mean'], [48100, 7.285714285714285, 'lower'], [48100, 11.214285714285714, 'upper'], [49100, 9.215087285423333, 'mean'], [49100, 7.285714285714285, 'lower'], [49100, 11.214285714285714, 'upper']]\n"
     ]
    },
    {
     "data": {
      "image/png": "[encoded data removed]",
      "text/plain": [
       "<Figure size 425.125x360 with 1 Axes>"
      ]
     },
     "metadata": {
      "needs_background": "light"
     },
     "output_type": "display_data"
    }
   ],
   "source": [
    "boots = []\n",
    "for i in range(100, 50000, 1000):\n",
    "    boot = bootstrap_mean_ci(data, data.shape[0], i, 80)\n",
    "    boots.append([i, boot[0], \"mean\"])\n",
    "    boots.append([i, boot[1], \"lower\"])\n",
    "    boots.append([i, boot[2], \"upper\"])\n",
    "\n",
    "df_boot = pd.DataFrame(boots, columns=['Boostrap Iterations', 'Mean', \"Value\"])\n",
    "sns_plot = sns.lmplot(df_boot.columns[0], df_boot.columns[1], data=df_boot, fit_reg=False, hue=\"Value\")\n",
    "\n",
    "sns_plot.axes[0, 0].set_ylim(0,)\n",
    "sns_plot.axes[0, 0].set_xlim(0, 50000)\n",
    "\n",
    "#sns_plot.savefig(\"bootstrap_confidence_80.pdf\", bbox_inches='tight')\n",
    "print(boots)"
   ]
  },
  {
   "cell_type": "markdown",
   "metadata": {
    "id": "qjNgXW6wdd7r"
   },
   "source": [
    "# Vehicles dataset\n",
    "\n",
    "Now let's work on a different dataset, which is stored in the vehicles.csv file.\n"
   ]
  },
  {
   "cell_type": "code",
   "execution_count": 25,
   "metadata": {
    "colab": {
     "base_uri": "https://localhost:8080/"
    },
    "executionInfo": {
     "elapsed": 205,
     "status": "ok",
     "timestamp": 1643375965292,
     "user": {
      "displayName": "ajay kiran",
      "photoUrl": "https://lh3.googleusercontent.com/a/default-user=s64",
      "userId": "17386896503952830029"
     },
     "user_tz": 0
    },
    "id": "avWv4ipFdpka",
    "outputId": "f64082b1-96ee-4c0c-cd8b-3427e345ab33"
   },
   "outputs": [
    {
     "name": "stdout",
     "output_type": "stream",
     "text": [
      "[24. 27. 27. 25. 31. 35. 24. 19. 28. 23. 27. 20. 22. 18. 20. 31. 32. 31.\n",
      " 32. 24. 26. 29. 24. 24. 33. 33. 32. 28. 19. 32. 34. 26. 30. 22. 22. 33.\n",
      " 39. 36. 28. 27. 21. 24. 30. 34. 32. 38. 37. 30. 31. 37. 32. 47. 41. 45.\n",
      " 34. 33. 24. 32. 39. 35. 32. 37. 38. 34. 34. 32. 33. 32. 25. 24. 37. 31.\n",
      " 36. 36. 34. 38. 32. 38. 32.]\n"
     ]
    }
   ],
   "source": [
    "# Load and visualise the vehicles dataset\n",
    "# To load the dataset: https://neptune.ai/blog/google-colab-dealing-with-files (check section \"Load individual files directly from GitHub\")\n",
    "\n",
    "\n",
    "# Note that the current and new fleets are in different columns and have different lengths, so bear this in mind when you're plotting.\n",
    "# You can create separate scatterplots for the two fleets, as you would with the histograms, \n",
    "# or plot them both in one plot (but not one against the other).\n",
    "# <---INSERT YOUR CODE HERE--->\n",
    "# Note: you can add more cells as needed to organise your code and your plots\n",
    "df = pd.read_csv('https://raw.githubusercontent.com/albanda/CE888/master/lab2%20-%20bootstrap/vehicles.csv')\n",
    "curr = df.values.T[0]\n",
    "d=df.dropna()\n",
    "nw=d.values.T[1]\n",
    "print(nw)"
   ]
  },
  {
   "cell_type": "code",
   "execution_count": 47,
   "metadata": {
    "executionInfo": {
     "elapsed": 214,
     "status": "ok",
     "timestamp": 1643377117045,
     "user": {
      "displayName": "ajay kiran",
      "photoUrl": "https://lh3.googleusercontent.com/a/default-user=s64",
      "userId": "17386896503952830029"
     },
     "user_tz": 0
    },
    "id": "X7J7PISIlBLS"
   },
   "outputs": [],
   "source": []
  },
  {
   "cell_type": "markdown",
   "metadata": {
    "id": "B5d0tXDpIEj8"
   },
   "source": [
    "## Compare the two fleets\n",
    "\n",
    "The business analysts come up a comparison algorithm that requires the upper and lower bounds for the mean in order to say which fleet is better.\n",
    "1. Calculate the mean of both samples.\n",
    "2. Using the bootstrap function that you created:\n",
    "    - Construct the 95% CI of the mean of the current fleet.\n",
    "    - Construct the 95% CI of the mean of the new fleet.\n",
    "    - Are they comparable? (i.e., is one better than the other?) -- you can do this with a permutation test (check the lecture notes!)"
   ]
  },
  {
   "cell_type": "code",
   "execution_count": 30,
   "metadata": {
    "colab": {
     "base_uri": "https://localhost:8080/",
     "height": 441
    },
    "executionInfo": {
     "elapsed": 907,
     "status": "ok",
     "timestamp": 1643376170318,
     "user": {
      "displayName": "ajay kiran",
      "photoUrl": "https://lh3.googleusercontent.com/a/default-user=s64",
      "userId": "17386896503952830029"
     },
     "user_tz": 0
    },
    "id": "po4mp6zRHC0m",
    "outputId": "154cb8e0-1a0a-491f-cf31-ab7fc2c53a90"
   },
   "outputs": [
    {
     "name": "stderr",
     "output_type": "stream",
     "text": [
      "/usr/local/lib/python3.7/dist-packages/seaborn/_decorators.py:43: FutureWarning: Pass the following variables as keyword args: x, y. From version 0.12, the only valid positional argument will be `data`, and passing other arguments without an explicit keyword will result in an error or misinterpretation.\n",
      "  FutureWarning\n"
     ]
    },
    {
     "name": "stdout",
     "output_type": "stream",
     "text": [
      "[[100, 9.309285714285714, 'mean'], [100, 2.611685469145816, 'lower'], [100, 7.3100584451244774, 'upper'], [1100, 9.148311688311688, 'mean'], [1100, 2.714589160844703, 'lower'], [1100, 7.332656071929366, 'upper'], [2100, 9.22561224489796, 'mean'], [2100, 2.6672853638931096, 'lower'], [2100, 7.385866259834608, 'upper'], [3100, 9.276129032258064, 'mean'], [3100, 2.7158771570111115, 'lower'], [3100, 7.362524035556234, 'upper'], [4100, 9.195731707317073, 'mean'], [4100, 2.6708626846270187, 'lower'], [4100, 7.3611898412828225, 'upper'], [5100, 9.211078431372549, 'mean'], [5100, 2.688147495215647, 'lower'], [5100, 7.356865328977973, 'upper'], [6100, 9.193606557377048, 'mean'], [6100, 2.759328291155464, 'lower'], [6100, 7.443493838793017, 'upper'], [7100, 9.218853118712273, 'mean'], [7100, 2.711464699443187, 'lower'], [7100, 7.359916259505863, 'upper'], [8100, 9.19773368606702, 'mean'], [8100, 2.7217941261796645, 'lower'], [8100, 7.34175739083716, 'upper'], [9100, 9.186216640502355, 'mean'], [9100, 2.7302164076594844, 'lower'], [9100, 7.344371585969467, 'upper'], [10100, 9.212927864214993, 'mean'], [10100, 2.718980901524897, 'lower'], [10100, 7.362688617174394, 'upper'], [11100, 9.242129987129987, 'mean'], [11100, 2.747912008810192, 'lower'], [11100, 7.362688617174394, 'upper'], [12100, 9.220850059031877, 'mean'], [12100, 2.737191840400098, 'lower'], [12100, 7.385866259834608, 'upper'], [13100, 9.216777535441658, 'mean'], [13100, 2.741405866056498, 'lower'], [13100, 7.393659358694427, 'upper'], [14100, 9.216914893617021, 'mean'], [14100, 2.711464699443187, 'lower'], [14100, 7.374805428080174, 'upper'], [15100, 9.204706717123935, 'mean'], [15100, 2.721794126179664, 'lower'], [15100, 7.374312471362439, 'upper'], [16100, 9.207710736468501, 'mean'], [16100, 2.718042512920064, 'lower'], [16100, 7.373490722618843, 'upper'], [17100, 9.22717627401838, 'mean'], [17100, 2.7562544830821056, 'lower'], [17100, 7.374312471362437, 'upper'], [18100, 9.213827940015785, 'mean'], [18100, 2.718042512920064, 'lower'], [18100, 7.393659358694425, 'upper'], [19100, 9.184349289454001, 'mean'], [19100, 2.703927604392528, 'lower'], [19100, 7.365295411638041, 'upper'], [20100, 9.213127221037668, 'mean'], [20100, 2.718980901524897, 'lower'], [20100, 7.387247699341654, 'upper'], [21100, 9.204238320920785, 'mean'], [21100, 2.7039276043925287, 'lower'], [21100, 7.3590929638668925, 'upper'], [22100, 9.213312863606982, 'mean'], [22100, 2.716563529293146, 'lower'], [22100, 7.363961719552904, 'upper'], [23100, 9.196892393320965, 'mean'], [23100, 2.688790032102673, 'lower'], [23100, 7.374805428080174, 'upper'], [24100, 9.234110847658565, 'mean'], [24100, 2.7152254012497448, 'lower'], [24100, 7.375696074856776, 'upper'], [25100, 9.226681844052361, 'mean'], [25100, 2.7152254012497448, 'lower'], [25100, 7.3737676244638894, 'upper'], [26100, 9.212892720306513, 'mean'], [26100, 2.7152254012497448, 'lower'], [26100, 7.3737676244638894, 'upper'], [27100, 9.22252503953611, 'mean'], [27100, 2.7105237087157534, 'lower'], [27100, 7.37311024089548, 'upper'], [28100, 9.21689883070666, 'mean'], [28100, 2.718042512920064, 'lower'], [28100, 7.382065968222154, 'upper'], [29100, 9.204440353460972, 'mean'], [29100, 2.716563529293146, 'lower'], [29100, 7.353709290974174, 'upper'], [30100, 9.20921689606075, 'mean'], [30100, 2.7235736895958933, 'lower'], [30100, 7.338082072134235, 'upper'], [31100, 9.210847496554893, 'mean'], [31100, 2.7152254012497448, 'lower'], [31100, 7.376188939100335, 'upper'], [32100, 9.216421895861147, 'mean'], [32100, 2.7217941261796645, 'lower'], [32100, 7.375696074856776, 'upper'], [33100, 9.2177988778593, 'mean'], [33100, 2.6901413023786134, 'lower'], [33100, 7.374805428080175, 'upper'], [34100, 9.218447842480101, 'mean'], [34100, 2.7255405754769875, 'lower'], [34100, 7.375696074856779, 'upper'], [35100, 9.221345136345136, 'mean'], [35100, 2.718042512920064, 'lower'], [35100, 7.3834481187619225, 'upper'], [36100, 9.208800949742779, 'mean'], [36100, 2.721794126179664, 'lower'], [36100, 7.391735594705807, 'upper'], [37100, 9.212643434732383, 'mean'], [37100, 2.699206232527312, 'lower'], [37100, 7.37221929388153, 'upper'], [38100, 9.224478815148107, 'mean'], [38100, 2.718042512920064, 'lower'], [38100, 7.365113574085852, 'upper'], [39100, 9.210084033613445, 'mean'], [39100, 2.703927604392528, 'lower'], [39100, 7.382065968222153, 'upper'], [40100, 9.207903455646598, 'mean'], [40100, 2.7152254012497448, 'lower'], [40100, 7.369614948543507, 'upper'], [41100, 9.226120959332638, 'mean'], [41100, 2.7367491515240023, 'lower'], [41100, 7.379300890508061, 'upper'], [42100, 9.210441126569393, 'mean'], [42100, 2.692582403567252, 'lower'], [42100, 7.362688617174394, 'upper'], [43100, 9.202343387470998, 'mean'], [43100, 2.7152254012497448, 'lower'], [43100, 7.367226067507162, 'upper'], [44100, 9.220450275348234, 'mean'], [44100, 2.718042512920064, 'lower'], [44100, 7.384665922475262, 'upper'], [45100, 9.204767184035477, 'mean'], [45100, 2.7152254012497448, 'lower'], [45100, 7.372037627108953, 'upper'], [46100, 9.222660365664703, 'mean'], [46100, 2.730216407659485, 'lower'], [46100, 7.37376762446389, 'upper'], [47100, 9.219256900212315, 'mean'], [47100, 2.718042512920064, 'lower'], [47100, 7.379300890508061, 'upper'], [48100, 9.229340659340659, 'mean'], [48100, 2.711464699443187, 'lower'], [48100, 7.39415102549002, 'upper'], [49100, 9.213190282222868, 'mean'], [49100, 2.711464699443187, 'lower'], [49100, 7.372383659056719, 'upper']]\n"
     ]
    },
    {
     "data": {
      "image/png": "[encoded data removed]",
      "text/plain": [
       "<Figure size 425.125x360 with 1 Axes>"
      ]
     },
     "metadata": {
      "needs_background": "light"
     },
     "output_type": "display_data"
    }
   ],
   "source": [
    "# <---INSERT YOUR CODE HERE--->\n",
    "#for i in range(0,10000):\n",
    "boot_curr = bootstrap_mean_ci(curr,curr.shape[0],1,95)\n",
    "boot_nw = bootstrap_mean_ci(nw,nw.shape[0],1,95)\n",
    "\n",
    "#boot_new=bootstrap_mean_ci(new,new.shape[0],1,95)\n",
    "#boots_curr.append([i, boot_curr[0], \"mean\"])\n",
    "#boots_curr.append([i, boot_curr[1], \"lower\"])\n",
    " # boots_curr.append([i, boot_curr[2], \"upper\"])\n",
    " # boots_new.append([i, boot_new[0], \"mean\"])\n",
    "  #boots_new.append([i, boot_new[1], \"lower\"])\n",
    "  #boots_new.append([i, boot_new[2], \"upper\"])\n",
    "#df_boot = pd.DataFrame(boots_curr, columns=['Boostrap Iterations', 'Mean', \"Value\"])\n",
    "#sns_plot = sns.lmplot(df_boot.columns[0], df_boot.columns[1], data=df_boot, fit_reg=False, hue=\"Value\")\n",
    "\n",
    "#sns_plot.axes[0, 0].set_ylim(0,)\n",
    "#sns_plot.axes[0, 0].set_xlim(0, 50000)\n",
    "#sns_plot.savefig(\"bootstrap_confidence_80.pdf\", bbox_inches='tight')\n",
    "boots = []\n",
    "for i in range(100, 50000, 1000):\n",
    "    boot = bootstrap_sd_ci(data, data.shape[0], i, 95)\n",
    "    boots.append([i, boot[0], \"mean\"])\n",
    "    boots.append([i, boot[1], \"lower\"])\n",
    "    boots.append([i, boot[2], \"upper\"])\n",
    "\n",
    "df_boot = pd.DataFrame(boots, columns=['Boostrap Iterations', 'Mean', \"Value\"])\n",
    "sns_plot = sns.lmplot(df_boot.columns[0], df_boot.columns[1], data=df_boot, fit_reg=False, hue=\"Value\")\n",
    "\n",
    "sns_plot.axes[0, 0].set_ylim(0,)\n",
    "sns_plot.axes[0, 0].set_xlim(0, 50000)\n",
    "\n",
    "#sns_plot.savefig(\"bootstrap_confidence_80.pdf\", bbox_inches='tight')\n",
    "print(boots)"
   ]
  },
  {
   "cell_type": "code",
   "execution_count": 31,
   "metadata": {
    "executionInfo": {
     "elapsed": 211,
     "status": "ok",
     "timestamp": 1643376305922,
     "user": {
      "displayName": "ajay kiran",
      "photoUrl": "https://lh3.googleusercontent.com/a/default-user=s64",
      "userId": "17386896503952830029"
     },
     "user_tz": 0
    },
    "id": "MkxvDZG4HC0n"
   },
   "outputs": [],
   "source": [
    "# Create your own function for a permutation test here (you will need it for the lab quiz!):\n",
    "def permut_test(sample1, sample2, n_permutations):\n",
    "    \"\"\"\n",
    "    sample1: 1D array\n",
    "    sample2: 1D array (note that the size of the two arrays can be different)\n",
    "    n_permutations: number of permutations to calculate the p-value\n",
    "    \"\"\"\n",
    "    sample1_m=np.mean(sample1)\n",
    "    sample2_m=np.mean(sample2)\n",
    "    t_obs=sample2_m-sample1_m\n",
    "    count=0\n",
    "    for i in range(n_permutations):\n",
    "      concat=np.concatenate([sample1,sample2])\n",
    "      perm=np.random.permutation(concat)\n",
    "      pold = perm[:int(len(perm)/2)]\n",
    "      pnew = perm[int(len(perm)/2):]\n",
    "      pold_m = np.mean(pold)\n",
    "      pnew_m= np.mean(pnew)\n",
    "      t_perm=pnew_m-pold_m\n",
    "      if(t_perm>t_obs):\n",
    "        count+=1\n",
    "      pvalue=count/n_permutations\n",
    "\n",
    "    return pvalue"
   ]
  },
  {
   "cell_type": "code",
   "execution_count": 32,
   "metadata": {
    "colab": {
     "base_uri": "https://localhost:8080/"
    },
    "executionInfo": {
     "elapsed": 1123,
     "status": "ok",
     "timestamp": 1643376307273,
     "user": {
      "displayName": "ajay kiran",
      "photoUrl": "https://lh3.googleusercontent.com/a/default-user=s64",
      "userId": "17386896503952830029"
     },
     "user_tz": 0
    },
    "id": "sXSofiGYtUZw",
    "outputId": "f3b59c65-757c-46f4-cfa4-4c9049792080"
   },
   "outputs": [
    {
     "data": {
      "text/plain": [
       "0.0"
      ]
     },
     "execution_count": 32,
     "metadata": {},
     "output_type": "execute_result"
    }
   ],
   "source": [
    "permut_test(curr, nw ,30000)"
   ]
  },
  {
   "cell_type": "code",
   "execution_count": 33,
   "metadata": {
    "executionInfo": {
     "elapsed": 206,
     "status": "ok",
     "timestamp": 1643376497030,
     "user": {
      "displayName": "ajay kiran",
      "photoUrl": "https://lh3.googleusercontent.com/a/default-user=s64",
      "userId": "17386896503952830029"
     },
     "user_tz": 0
    },
    "id": "gmNwPadv0kh1"
   },
   "outputs": [],
   "source": [
    "# The variables below represent the percentages of democratic votes in Pennsylvania and Ohio (one value for each state).\n",
    "dem_share_PA = [60.08, 40.64, 36.07, 41.21, 31.04, 43.78, 44.08, 46.85, 44.71, 46.15, 63.10, 52.20, 43.18, 40.24, 39.92, 47.87, 37.77, 40.11, 49.85, 48.61, 38.62, 54.25, 34.84, 47.75, 43.82, 55.97, 58.23, 42.97, 42.38, 36.11, 37.53, 42.65, 50.96, 47.43, 56.24, 45.60, 46.39, 35.22, 48.56, 32.97, 57.88, 36.05, 37.72, 50.36, 32.12, 41.55, 54.66, 57.81, 54.58, 32.88, 54.37, 40.45, 47.61, 60.49, 43.11, 27.32, 44.03, 33.56, 37.26, 54.64, 43.12, 25.34, 49.79, 83.56, 40.09, 60.81, 49.81]\n",
    "dem_share_OH = [56.94, 50.46, 65.99, 45.88, 42.23, 45.26, 57.01, 53.61, 59.10, 61.48, 43.43, 44.69, 54.59, 48.36, 45.89, 48.62, 43.92, 38.23, 28.79, 63.57, 38.07, 40.18, 43.05, 41.56, 42.49, 36.06, 52.76, 46.07, 39.43, 39.26, 47.47, 27.92, 38.01, 45.45, 29.07, 28.94, 51.28, 50.10, 39.84, 36.43, 35.71, 31.47, 47.01, 40.10, 48.76, 31.56, 39.86, 45.31, 35.47, 51.38, 46.33, 48.73, 41.77, 41.32, 48.46, 53.14, 34.01, 54.74, 40.67, 38.96, 46.29, 38.25, 6.80, 31.75, 46.33, 44.90, 33.57, 38.10, 39.67, 40.47, 49.44, 37.62, 36.71, 46.73, 42.20, 53.16, 52.40, 58.36, 68.02, 38.53, 34.58, 69.64, 60.50, 53.53, 36.54, 49.58, 41.97, 38.11]\n"
   ]
  },
  {
   "cell_type": "code",
   "execution_count": 44,
   "metadata": {
    "colab": {
     "base_uri": "https://localhost:8080/"
    },
    "executionInfo": {
     "elapsed": 514,
     "status": "ok",
     "timestamp": 1643376874251,
     "user": {
      "displayName": "ajay kiran",
      "photoUrl": "https://lh3.googleusercontent.com/a/default-user=s64",
      "userId": "17386896503952830029"
     },
     "user_tz": 0
    },
    "id": "puKlZv0A307A",
    "outputId": "622128d7-b3cb-4f90-89af-0e2668eb8539"
   },
   "outputs": [
    {
     "name": "stdout",
     "output_type": "stream",
     "text": [
      "67 88\n"
     ]
    }
   ],
   "source": [
    "print(len(dem_share_PA),\n",
    "len(dem_share_OH))\n",
    "dem_share_PA=np.array(dem_share_PA)\n",
    "dem_share_OH=np.array(dem_share_OH)"
   ]
  },
  {
   "cell_type": "code",
   "execution_count": 45,
   "metadata": {
    "colab": {
     "base_uri": "https://localhost:8080/",
     "height": 441
    },
    "executionInfo": {
     "elapsed": 2758,
     "status": "ok",
     "timestamp": 1643376888978,
     "user": {
      "displayName": "ajay kiran",
      "photoUrl": "https://lh3.googleusercontent.com/a/default-user=s64",
      "userId": "17386896503952830029"
     },
     "user_tz": 0
    },
    "id": "_7zMsb_T4BJt",
    "outputId": "412ed588-d0f5-427a-ed03-8f9c8cf19006"
   },
   "outputs": [
    {
     "name": "stderr",
     "output_type": "stream",
     "text": [
      "/usr/local/lib/python3.7/dist-packages/seaborn/_decorators.py:43: FutureWarning: Pass the following variables as keyword args: x, y. From version 0.12, the only valid positional argument will be `data`, and passing other arguments without an explicit keyword will result in an error or misinterpretation.\n",
      "  FutureWarning\n"
     ]
    },
    {
     "name": "stdout",
     "output_type": "stream",
     "text": [
      "[[100, 44.50701931818182, 'mean'], [100, 42.4885875, 'lower'], [100, 46.99628636363637, 'upper'], [1100, 44.32172892561984, 'mean'], [1100, 41.79460454545454, 'lower'], [1100, 46.77553977272727, 'upper'], [2100, 44.30862970779221, 'mean'], [2100, 41.864363636363635, 'lower'], [2100, 46.6579784090909, 'upper'], [3100, 44.3227978739003, 'mean'], [3100, 41.75021363636363, 'lower'], [3100, 46.78734545454545, 'upper'], [4100, 44.269777383592015, 'mean'], [4100, 41.778173863636354, 'lower'], [4100, 46.70557386363637, 'upper'], [5100, 44.31523930481285, 'mean'], [5100, 41.92488068181819, 'lower'], [5100, 46.69044886363636, 'upper'], [6100, 44.315507786885256, 'mean'], [6100, 41.82617386363636, 'lower'], [6100, 46.68384318181818, 'upper'], [7100, 44.31198958066582, 'mean'], [7100, 41.76748977272727, 'lower'], [7100, 46.78886363636364, 'upper'], [8100, 44.324671198092034, 'mean'], [8100, 41.89145909090909, 'lower'], [8100, 46.774631818181824, 'upper'], [9100, 44.305492145354634, 'mean'], [9100, 41.81349090909091, 'lower'], [9100, 46.728190909090905, 'upper'], [10100, 44.30886211746174, 'mean'], [10100, 41.87475340909091, 'lower'], [10100, 46.75333636363636, 'upper'], [11100, 44.308388155200674, 'mean'], [11100, 41.87096363636364, 'lower'], [11100, 46.74161818181818, 'upper'], [12100, 44.30430511833206, 'mean'], [12100, 41.894740909090906, 'lower'], [12100, 46.66974886363637, 'upper'], [13100, 44.3268029146426, 'mean'], [13100, 41.861909090909094, 'lower'], [13100, 46.77752954545455, 'upper'], [14100, 44.313981536105715, 'mean'], [14100, 41.88125, 'lower'], [14100, 46.753978409090905, 'upper'], [15100, 44.32163393287177, 'mean'], [15100, 41.84430909090909, 'lower'], [15100, 46.76000909090909, 'upper'], [16100, 44.30687044042915, 'mean'], [16100, 41.81873522727273, 'lower'], [16100, 46.71615454545455, 'upper'], [17100, 44.32331465311003, 'mean'], [17100, 41.84815795454545, 'lower'], [17100, 46.74048749999999, 'upper'], [18100, 44.33055131215468, 'mean'], [18100, 41.894200000000005, 'lower'], [18100, 46.813787500000004, 'upper'], [19100, 44.31603789861973, 'mean'], [19100, 41.874190909090906, 'lower'], [19100, 46.75227727272727, 'upper'], [20100, 44.306763506332, 'mean'], [20100, 41.834525, 'lower'], [20100, 46.71751477272727, 'upper'], [21100, 44.332408266910825, 'mean'], [21100, 41.88215454545454, 'lower'], [21100, 46.76433636363636, 'upper'], [22100, 44.32371809954748, 'mean'], [22100, 41.87214431818182, 'lower'], [22100, 46.76012159090908, 'upper'], [23100, 44.3009352813853, 'mean'], [23100, 41.79465909090909, 'lower'], [23100, 46.73208863636363, 'upper'], [24100, 44.32013776405127, 'mean'], [24100, 41.817257954545454, 'lower'], [24100, 46.735685227272725, 'upper'], [25100, 44.31131368616442, 'mean'], [25100, 41.82112840909091, 'lower'], [25100, 46.725573863636356, 'upper'], [26100, 44.3084143591083, 'mean'], [26100, 41.83419772727272, 'lower'], [26100, 46.71432727272728, 'upper'], [27100, 44.31468954629319, 'mean'], [27100, 41.87759431818181, 'lower'], [27100, 46.75552386363635, 'upper'], [28100, 44.325951791491455, 'mean'], [28100, 41.845790909090915, 'lower'], [28100, 46.78092272727272, 'upper'], [29100, 44.32344462277415, 'mean'], [29100, 41.877819318181814, 'lower'], [29100, 46.73708295454546, 'upper'], [30100, 44.31729457490189, 'mean'], [30100, 41.849315909090905, 'lower'], [30100, 46.74898636363636, 'upper'], [31100, 44.31947969161065, 'mean'], [31100, 41.854752272727275, 'lower'], [31100, 46.74704772727272, 'upper'], [32100, 44.31580081067684, 'mean'], [32100, 41.878847727272735, 'lower'], [32100, 46.767162500000005, 'upper'], [33100, 44.32753174265309, 'mean'], [33100, 41.877936363636366, 'lower'], [33100, 46.82227386363636, 'upper'], [34100, 44.316063406424945, 'mean'], [34100, 41.86499204545455, 'lower'], [34100, 46.73738749999999, 'upper'], [35100, 44.31614000906505, 'mean'], [35100, 41.83499545454545, 'lower'], [35100, 46.743982954545466, 'upper'], [36100, 44.32271746411483, 'mean'], [36100, 41.87304318181818, 'lower'], [36100, 46.75648181818181, 'upper'], [37100, 44.31502345932371, 'mean'], [37100, 41.859880681818176, 'lower'], [37100, 46.75171590909091, 'upper'], [38100, 44.317803382247675, 'mean'], [38100, 41.87238295454546, 'lower'], [38100, 46.764552272727286, 'upper'], [39100, 44.32545909962799, 'mean'], [39100, 41.8670375, 'lower'], [39100, 46.76796363636364, 'upper'], [40100, 44.319878941849915, 'mean'], [40100, 41.862837500000005, 'lower'], [40100, 46.751253409090914, 'upper'], [41100, 44.31857963669544, 'mean'], [41100, 41.868731818181814, 'lower'], [41100, 46.75137613636364, 'upper'], [42100, 44.3211943370762, 'mean'], [42100, 41.85543181818181, 'lower'], [42100, 46.73693636363635, 'upper'], [43100, 44.3123412729382, 'mean'], [43100, 41.87499204545455, 'lower'], [43100, 46.7384125, 'upper'], [44100, 44.31766192537625, 'mean'], [44100, 41.92181818181819, 'lower'], [44100, 46.715454545454534, 'upper'], [45100, 44.31082060320502, 'mean'], [45100, 41.86772272727273, 'lower'], [45100, 46.7575, 'upper'], [46100, 44.322918349437955, 'mean'], [46100, 41.88169545454546, 'lower'], [46100, 46.76875, 'upper'], [47100, 44.3222237623046, 'mean'], [47100, 41.86464204545455, 'lower'], [47100, 46.75568522727273, 'upper'], [48100, 44.31849453316952, 'mean'], [48100, 41.86406818181818, 'lower'], [48100, 46.766479545454544, 'upper'], [49100, 44.31216892242181, 'mean'], [49100, 41.86817386363636, 'lower'], [49100, 46.727735227272724, 'upper']]\n"
     ]
    },
    {
     "data": {
      "image/png": "[encoded data removed]",
      "text/plain": [
       "<Figure size 425.125x360 with 1 Axes>"
      ]
     },
     "metadata": {
      "needs_background": "light"
     },
     "output_type": "display_data"
    }
   ],
   "source": [
    "boots = []\n",
    "for i in range(100, 50000, 1000):\n",
    "    boot = bootstrap_mean_ci(dem_share_OH, dem_share_OH.shape[0], i, 98)\n",
    "    boots.append([i, boot[0], \"mean\"])\n",
    "    boots.append([i, boot[1], \"lower\"])\n",
    "    boots.append([i, boot[2], \"upper\"])\n",
    "\n",
    "df_boot = pd.DataFrame(boots, columns=['Boostrap Iterations', 'Mean', \"Value\"])\n",
    "sns_plot = sns.lmplot(df_boot.columns[0], df_boot.columns[1], data=df_boot, fit_reg=False, hue=\"Value\")\n",
    "\n",
    "sns_plot.axes[0, 0].set_ylim(0,)\n",
    "sns_plot.axes[0, 0].set_xlim(0, 50000)\n",
    "\n",
    "#sns_plot.savefig(\"bootstrap_confidence_80.pdf\", bbox_inches='tight')\n",
    "print(boots)"
   ]
  },
  {
   "cell_type": "code",
   "execution_count": 46,
   "metadata": {
    "colab": {
     "base_uri": "https://localhost:8080/"
    },
    "executionInfo": {
     "elapsed": 1854,
     "status": "ok",
     "timestamp": 1643377028206,
     "user": {
      "displayName": "ajay kiran",
      "photoUrl": "https://lh3.googleusercontent.com/a/default-user=s64",
      "userId": "17386896503952830029"
     },
     "user_tz": 0
    },
    "id": "jlYxahQW4UbD",
    "outputId": "a462bb66-3f5b-4095-92cf-45f42a39d9a2"
   },
   "outputs": [
    {
     "data": {
      "text/plain": [
       "0.7716666666666666"
      ]
     },
     "execution_count": 46,
     "metadata": {},
     "output_type": "execute_result"
    }
   ],
   "source": [
    "permut_test(dem_share_PA, dem_share_OH ,30000)"
   ]
  },
  {
   "cell_type": "code",
   "execution_count": null,
   "metadata": {
    "id": "msD_SW-y52Nc"
   },
   "outputs": [],
   "source": []
  }
 ],
 "metadata": {
  "colab": {
   "collapsed_sections": [],
   "name": "Copy of bootstrap.ipynb",
   "provenance": [
    {
     "file_id": "https://github.com/albanda/CE888/blob/master/lab2%20-%20bootstrap/bootstrap.ipynb",
     "timestamp": 1643373873603
    }
   ]
  },
  "kernelspec": {
   "display_name": "Python 3 (ipykernel)",
   "language": "python",
   "name": "python3"
  },
  "language_info": {
   "codemirror_mode": {
    "name": "ipython",
    "version": 3
   },
   "file_extension": ".py",
   "mimetype": "text/x-python",
   "name": "python",
   "nbconvert_exporter": "python",
   "pygments_lexer": "ipython3",
   "version": "3.9.6"
  },
  "pycharm": {
   "stem_cell": {
    "cell_type": "raw",
    "metadata": {
     "collapsed": false
    },
    "source": []
   }
  }
 },
 "nbformat": 4,
 "nbformat_minor": 1
}
