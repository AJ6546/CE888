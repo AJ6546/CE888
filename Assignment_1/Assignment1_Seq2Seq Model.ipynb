{
 "cells": [
  {
   "cell_type": "markdown",
   "id": "c9c613c5",
   "metadata": {},
   "source": []
  },
  {
   "cell_type": "code",
   "execution_count": null,
   "id": "ae8d1ac4",
   "metadata": {},
   "outputs": [],
   "source": [
    "import pandas as pd\n",
    "import numpy as np\n",
    "import math\n",
    "import time\n",
    "import string\n",
    "import re\n",
    "import os\n",
    "import tensorflow as tf\n",
    "tf.compat.v1.enable_eager_execution()\n",
    "from tensorflow.keras import layers\n",
    "import tensorflow_datasets as tfds\n",
    "import tensorflow_text as tf_text\n",
    "df = pd.read_json('C:/Users/AJ/Documents/Study/Data Science and Deecision Making/spider/train_spider.json', orient='records')\n",
    "cols = ['question','query']\n",
    "data=df[cols]\n",
    "data=data.drop_duplicates()\n",
    "\n",
    "#Changing Everything to Uppercase\n",
    "data['query']=data['query'].str.upper()\n",
    "data['question']=data['question'].str.upper()\n",
    "\n",
    "data=data.drop_duplicates()"
   ]
  }
 ],
 "metadata": {
  "kernelspec": {
   "display_name": "Python 3 (ipykernel)",
   "language": "python",
   "name": "python3"
  },
  "language_info": {
   "codemirror_mode": {
    "name": "ipython",
    "version": 3
   },
   "file_extension": ".py",
   "mimetype": "text/x-python",
   "name": "python",
   "nbconvert_exporter": "python",
   "pygments_lexer": "ipython3",
   "version": "3.9.7"
  }
 },
 "nbformat": 4,
 "nbformat_minor": 5
}
